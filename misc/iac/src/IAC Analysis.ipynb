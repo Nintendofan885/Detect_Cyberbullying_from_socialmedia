{
 "cells": [
  {
   "cell_type": "markdown",
   "metadata": {},
   "source": [
    "# Analysis of the IAC Dataset"
   ]
  },
  {
   "cell_type": "code",
   "execution_count": 47,
   "metadata": {
    "collapsed": true
   },
   "outputs": [],
   "source": [
    "%matplotlib inline\n",
    "import numpy as np\n",
    "import pandas as pd\n",
    "\n",
    "import sklearn\n",
    "from sklearn.pipeline import Pipeline\n",
    "from sklearn.feature_extraction.text import CountVectorizer, TfidfTransformer\n",
    "from sklearn.ensemble import RandomForestRegressor\n",
    "from sklearn.linear_model import LinearRegression, LogisticRegression\n",
    "from sklearn import metrics\n",
    "\n",
    "import matplotlib.pyplot as plt\n",
    "import scipy\n",
    "import math\n",
    "\n",
    "import tensorflow as tf\n",
    "import skflow"
   ]
  },
  {
   "cell_type": "markdown",
   "metadata": {},
   "source": [
    "## Preprocessing\n",
    "\n",
    "The [IAC corpus](https://nlds.soe.ucsc.edu/iac) of 10,000 comments is preprocessed into a training set (80%) and a test set (20%). We exctract only the responses for available question and response pairs within the corpus and assign to each both the nicenasty score and a boolean variable indicating whether the nicenasty score is positive or negative. We will use the former for regression and the latter for a classification based analysis."
   ]
  },
  {
   "cell_type": "markdown",
   "metadata": {},
   "source": [
    "## Regression\n",
    "\n",
    "We begin by trying to train a regression algorithm on the nicenasty scores of the IAC response corpus. We will use a bag of words model to embed the text into a feature space and tf-idf for downscaling. We will use a random forest as our final regressor, which performs the best of those regressors we experimented with."
   ]
  },
  {
   "cell_type": "markdown",
   "metadata": {},
   "source": [
    "### Reading the data"
   ]
  },
  {
   "cell_type": "code",
   "execution_count": 38,
   "metadata": {
    "collapsed": false,
    "scrolled": true
   },
   "outputs": [],
   "source": [
    "train = pd.read_csv('../data/isnice_text_train.csv')\n",
    "X_train, y_train = train.ix[:,2], train.ix[:,1]\n",
    "test = pd.read_csv('../data/isnice_text_test.csv')\n",
    "X_test, y_test = test.ix[:,2], test.ix[:,1]"
   ]
  },
  {
   "cell_type": "markdown",
   "metadata": {},
   "source": [
    "### Training the regressor"
   ]
  },
  {
   "cell_type": "code",
   "execution_count": 39,
   "metadata": {
    "collapsed": false
   },
   "outputs": [],
   "source": [
    "text_reg = Pipeline([('vect', CountVectorizer()),\n",
    "                    ('tfidf', TfidfTransformer()),\n",
    "                    ('reg', RandomForestRegressor()),\n",
    "])\n",
    "text_reg = text_reg.fit(X_train, y_train)"
   ]
  },
  {
   "cell_type": "markdown",
   "metadata": {},
   "source": [
    "### Results\n",
    "\n",
    "Ultimately, our regression is unable to capture only a small portion of the signal in the data as shown in the plot below."
   ]
  },
  {
   "cell_type": "code",
   "execution_count": 40,
   "metadata": {
    "collapsed": false,
    "scrolled": false
   },
   "outputs": [
    {
     "name": "stdout",
     "output_type": "stream",
     "text": [
      "MSE: 1.973406\n",
      "R-squared: 0.071382\n"
     ]
    },
    {
     "data": {
      "text/plain": [
       "<matplotlib.text.Text at 0x1220216d0>"
      ]
     },
     "execution_count": 40,
     "metadata": {},
     "output_type": "execute_result"
    },
    {
     "data": {
      "image/png": "[encoded data removed]",
      "text/plain": [
       "<matplotlib.figure.Figure at 0x10a693110>"
      ]
     },
     "metadata": {},
     "output_type": "display_data"
    }
   ],
   "source": [
    "predicted = text_reg.predict(X_test)\n",
    "MSE = metrics.regression.mean_squared_error(y_test, predicted)\n",
    "print 'MSE: {0:f}'.format(MSE)\n",
    "R2 = metrics.r2_score(y_test, predicted)\n",
    "print 'R-squared: {0:f}'.format(R2)\n",
    "plt.scatter(y_test, predicted)\n",
    "plt.xlabel('Actual Score')\n",
    "plt.ylabel('Predicted Score')\n",
    "plt.title('Actual vs Predicted Score')"
   ]
  },
  {
   "cell_type": "markdown",
   "metadata": {},
   "source": [
    "## Classification\n",
    "\n",
    "Regression seems difficult, but perhaps we can solve an easier classification problem. Let's just try to build a classifier to predict whether a response has a positive nicenasty score. We use the same bag of word ans tf-idf approach. We chose logistic regression as the classifier after testing a few others which perform less well."
   ]
  },
  {
   "cell_type": "markdown",
   "metadata": {},
   "source": [
    "### Reading the data"
   ]
  },
  {
   "cell_type": "code",
   "execution_count": 41,
   "metadata": {
    "collapsed": true
   },
   "outputs": [],
   "source": [
    "train = pd.read_csv('../data/isnice_text_train.csv')\n",
    "X_train, y_train = train.ix[:,2], train.ix[:,3]\n",
    "test = pd.read_csv('../data/isnice_text_test.csv')\n",
    "X_test, y_test = test.ix[:,2], test.ix[:,3]"
   ]
  },
  {
   "cell_type": "markdown",
   "metadata": {},
   "source": [
    "### Training the classifier"
   ]
  },
  {
   "cell_type": "code",
   "execution_count": 42,
   "metadata": {
    "collapsed": false
   },
   "outputs": [],
   "source": [
    "text_clf = Pipeline([\n",
    "    ('vect', CountVectorizer()),\n",
    "    ('tfidf', TfidfTransformer(sublinear_tf=True,norm='l2')),\n",
    "    ('clf', LogisticRegression()),\n",
    "])\n",
    "text_clf = text_clf.fit(X_train, y_train)"
   ]
  },
  {
   "cell_type": "markdown",
   "metadata": {},
   "source": [
    "### Results\n",
    "\n",
    "We are able to obtain an accuracy of 73% (which increases to 74.4% with a little hyperparameter searching). This is only slightly better than a classifier which predicts all \"True\" which would achieve 71% accuracy on our test set.  The classification report below shows that our classifier tends to bias toward guessing True and misses a significant portion of the nasty comments."
   ]
  },
  {
   "cell_type": "code",
   "execution_count": 43,
   "metadata": {
    "collapsed": false
   },
   "outputs": [
    {
     "name": "stdout",
     "output_type": "stream",
     "text": [
      "Accuracy: 0.729537\n"
     ]
    }
   ],
   "source": [
    "predicted = text_clf.predict(X_test)\n",
    "accur = np.mean(predicted == y_test)\n",
    "print 'Accuracy: {0:f}'.format(accur)"
   ]
  },
  {
   "cell_type": "markdown",
   "metadata": {},
   "source": [
    "### Hyperparameter Search and Results"
   ]
  },
  {
   "cell_type": "code",
   "execution_count": 44,
   "metadata": {
    "collapsed": false,
    "scrolled": true
   },
   "outputs": [],
   "source": [
    "from sklearn.grid_search import GridSearchCV\n",
    "parameters = {'vect__ngram_range': [(1, 1), (1, 2), (1,4)],\n",
    "              'tfidf__use_idf': (True, False),\n",
    "              'clf__C': [0.1, 1, 5, 10],\n",
    "}\n",
    "gs_clf = GridSearchCV(text_clf, parameters, n_jobs=-1)\n",
    "gs_clf = gs_clf.fit(X_train, y_train)\n",
    "best_parameters, score, _ = max(gs_clf.grid_scores_, key=lambda x: x[1])"
   ]
  },
  {
   "cell_type": "code",
   "execution_count": 46,
   "metadata": {
    "collapsed": false
   },
   "outputs": [
    {
     "name": "stdout",
     "output_type": "stream",
     "text": [
      "Best Parameters\n",
      "clf__C: 10\n",
      "tfidf__use_idf: True\n",
      "vect__ngram_range: (1, 4)\n",
      "\n",
      "Accuracy: 0.743772\n",
      "\n",
      "Classification Report\n",
      "             precision    recall  f1-score   support\n",
      "\n",
      "      False       0.62      0.31      0.41       570\n",
      "       True       0.77      0.92      0.84      1397\n",
      "\n",
      "avg / total       0.72      0.74      0.71      1967\n",
      "\n"
     ]
    }
   ],
   "source": [
    "print \"Best Parameters\"\n",
    "for param_name in sorted(parameters.keys()):\n",
    "    print(\"%s: %r\" % (param_name, best_parameters[param_name]))\n",
    "predicted = gs_clf.predict(X_test)\n",
    "accur = np.mean(predicted == y_test)\n",
    "print \"\"\n",
    "print 'Accuracy: {0:f}'.format(accur)\n",
    "print \"\"\n",
    "print \"Classification Report\"\n",
    "print(metrics.classification_report(y_test, predicted))"
   ]
  },
  {
   "cell_type": "markdown",
   "metadata": {},
   "source": [
    "## Convolutional Neural Net"
   ]
  },
  {
   "cell_type": "markdown",
   "metadata": {},
   "source": [
    "Convolutional neural networks have achieved [some success](http://www.wildml.com/2015/11/understanding-convolutional-neural-networks-for-nlp/) in text classification tasks. Here, we use the skflow package to build a simple CNN to see what kind of classification accuracy we can achieve. "
   ]
  },
  {
   "cell_type": "markdown",
   "metadata": {},
   "source": [
    "### Reading the data"
   ]
  },
  {
   "cell_type": "code",
   "execution_count": 48,
   "metadata": {
    "collapsed": true
   },
   "outputs": [],
   "source": [
    "train = pd.read_csv('../data/isnice_text_train.csv')\n",
    "X_train, y_train = train.ix[:,2], train.ix[:,3]\n",
    "test = pd.read_csv('../data/isnice_text_test.csv')\n",
    "X_test, y_test = test.ix[:,2], test.ix[:,3]"
   ]
  },
  {
   "cell_type": "markdown",
   "metadata": {},
   "source": [
    "### Processing the vocabulary"
   ]
  },
  {
   "cell_type": "code",
   "execution_count": 49,
   "metadata": {
    "collapsed": false
   },
   "outputs": [
    {
     "name": "stdout",
     "output_type": "stream",
     "text": [
      "Total words: 30545\n"
     ]
    }
   ],
   "source": [
    "MAX_DOCUMENT_LENGTH = 100\n",
    "\n",
    "vocab_processor = skflow.preprocessing.VocabularyProcessor(MAX_DOCUMENT_LENGTH)\n",
    "X_train = np.array(list(vocab_processor.fit_transform(X_train)))\n",
    "X_test = np.array(list(vocab_processor.transform(X_test)))\n",
    "\n",
    "n_words = len(vocab_processor.vocabulary_)\n",
    "print('Total words: %d' % n_words)"
   ]
  },
  {
   "cell_type": "markdown",
   "metadata": {},
   "source": [
    "### Defining the model"
   ]
  },
  {
   "cell_type": "code",
   "execution_count": 50,
   "metadata": {
    "collapsed": true
   },
   "outputs": [],
   "source": [
    "EMBEDDING_SIZE = 20\n",
    "N_FILTERS = 10\n",
    "WINDOW_SIZE = 20\n",
    "FILTER_SHAPE1 = [WINDOW_SIZE, EMBEDDING_SIZE]\n",
    "FILTER_SHAPE2 = [WINDOW_SIZE, N_FILTERS]\n",
    "POOLING_WINDOW = 4\n",
    "POOLING_STRIDE = 2\n",
    "\n",
    "def cnn_model(X, y):\n",
    "    \"\"\"2 layer Convolutional network to predict from sequence of words\n",
    "    to a class.\"\"\"\n",
    "    # Convert indexes of words into embeddings.\n",
    "    # This creates embeddings matrix of [n_words, EMBEDDING_SIZE] and then\n",
    "    # maps word indexes of the sequence into [batch_size, sequence_length,\n",
    "    # EMBEDDING_SIZE].\n",
    "    word_vectors = skflow.ops.categorical_variable(X, n_classes=n_words,\n",
    "        embedding_size=EMBEDDING_SIZE, name='words')\n",
    "    word_vectors = tf.expand_dims(word_vectors, 3)\n",
    "    with tf.variable_scope('CNN_Layer1'):\n",
    "        # Apply Convolution filtering on input sequence.\n",
    "        conv1 = skflow.ops.conv2d(word_vectors, N_FILTERS, FILTER_SHAPE1, padding='VALID')\n",
    "        # Add a RELU for non linearity.\n",
    "        conv1 = tf.nn.relu(conv1)\n",
    "        # Max pooling across output of Convlution+Relu.\n",
    "        pool1 = tf.nn.max_pool(conv1, ksize=[1, POOLING_WINDOW, 1, 1], \n",
    "            strides=[1, POOLING_STRIDE, 1, 1], padding='SAME')\n",
    "        # Transpose matrix so that n_filters from convolution becomes width.\n",
    "        pool1 = tf.transpose(pool1, [0, 1, 3, 2])\n",
    "    with tf.variable_scope('CNN_Layer2'):\n",
    "        # Second level of convolution filtering.\n",
    "        conv2 = skflow.ops.conv2d(pool1, N_FILTERS, FILTER_SHAPE2,\n",
    "            padding='VALID')\n",
    "        # Max across each filter to get useful features for classification.\n",
    "        pool2 = tf.squeeze(tf.reduce_max(conv2, 1), squeeze_dims=[1])\n",
    "    # Apply regular WX + B and classification.\n",
    "    return skflow.models.logistic_regression(pool2, y)\n",
    "\n",
    "\n",
    "classifier = skflow.TensorFlowEstimator(model_fn=cnn_model, n_classes=2,\n",
    "    steps=100, optimizer='Adam', learning_rate=0.005, continue_training=True)"
   ]
  },
  {
   "cell_type": "markdown",
   "metadata": {},
   "source": [
    "### Training and evaluating the model"
   ]
  },
  {
   "cell_type": "code",
   "execution_count": 51,
   "metadata": {
    "collapsed": false
   },
   "outputs": [
    {
     "name": "stdout",
     "output_type": "stream",
     "text": [
      "Step #1, avg. loss: 1.18577\n",
      "Step #11, avg. loss: 0.64192\n",
      "Step #21, avg. loss: 0.60631\n",
      "Step #31, avg. loss: 0.62822\n",
      "Step #41, avg. loss: 0.64085\n",
      "Step #51, avg. loss: 0.64577\n",
      "Step #61, avg. loss: 0.62920\n",
      "Step #71, avg. loss: 0.69686\n",
      "Step #81, avg. loss: 0.62500\n",
      "Step #91, avg. loss: 0.59615\n",
      "Accuracy: 0.710219\n",
      "Step #101, avg. loss: 0.53490\n",
      "Step #111, avg. loss: 0.58363\n",
      "Step #121, avg. loss: 0.57230\n",
      "Step #131, avg. loss: 0.58556\n",
      "Step #141, avg. loss: 0.90900\n",
      "Step #151, avg. loss: 1.10923\n",
      "Step #161, avg. loss: 2.35915\n",
      "Step #171, avg. loss: 1.18820\n",
      "Step #181, avg. loss: 0.91374\n",
      "Step #191, avg. loss: 1.02682\n",
      "Accuracy: 0.587697\n",
      "Step #201, avg. loss: 1.13730\n",
      "Step #211, avg. loss: 1.89021\n",
      "Step #221, avg. loss: 2.09466\n",
      "Step #231, avg. loss: 1.12773\n",
      "Step #241, avg. loss: 1.80713\n",
      "Step #251, avg. loss: 2.22226\n",
      "Step #261, avg. loss: 6.69830\n",
      "Step #271, avg. loss: 3.14421\n",
      "Step #281, avg. loss: 1.21030\n",
      "Step #291, avg. loss: 1.62504\n",
      "Accuracy: 0.539908\n",
      "Step #301, avg. loss: 1.81160\n",
      "Step #311, avg. loss: 1.71047\n",
      "Step #321, avg. loss: 1.20221\n",
      "Step #331, avg. loss: 1.40368\n",
      "Step #341, avg. loss: 1.90923\n",
      "Step #351, avg. loss: 3.03173\n",
      "Step #361, avg. loss: 2.26888\n",
      "Step #371, avg. loss: 2.34821\n",
      "Step #381, avg. loss: 2.33979\n",
      "Step #391, avg. loss: 1.70448\n",
      "Accuracy: 0.711235\n"
     ]
    }
   ],
   "source": [
    "for i in xrange(4):\n",
    "    classifier.fit(X_train, y_train, logdir='/tmp/tf_examples/word_cnn')\n",
    "    score = metrics.accuracy_score(y_test, classifier.predict(X_test))\n",
    "    print('Accuracy: {0:f}'.format(score))"
   ]
  },
  {
   "cell_type": "markdown",
   "metadata": {},
   "source": [
    "### Results"
   ]
  },
  {
   "cell_type": "markdown",
   "metadata": {},
   "source": [
    "The test set accuracy of the CNN swings wildly. I think this is caused by it overtraining on a fairly small set of training data on the large number of CNN parameters."
   ]
  },
  {
   "cell_type": "markdown",
   "metadata": {},
   "source": [
    "### Attribution"
   ]
  },
  {
   "cell_type": "markdown",
   "metadata": {},
   "source": [
    "The above code is a modification of the code of the skflow authors which has been releashed under the Apache License below:\n",
    "\n",
    "Copyright 2015-present Scikit Flow Authors. All Rights Reserved.\n",
    "\n",
    "Licensed under the Apache License, Version 2.0 (the \"License\");\n",
    "you may not use this file except in compliance with the License.\n",
    "You may obtain a copy of the License at\n",
    "\n",
    "http://www.apache.org/licenses/LICENSE-2.0\n",
    "\n",
    "Unless required by applicable law or agreed to in writing, software\n",
    "distributed under the License is distributed on an \"AS IS\" BASIS,\n",
    "WITHOUT WARRANTIES OR CONDITIONS OF ANY KIND, either express or implied.\n",
    "See the License for the specific language governing permissions and\n",
    "limitations under the License."
   ]
  },
  {
   "cell_type": "code",
   "execution_count": null,
   "metadata": {
    "collapsed": true
   },
   "outputs": [],
   "source": []
  }
 ],
 "metadata": {
  "kernelspec": {
   "display_name": "Python 2",
   "language": "python",
   "name": "python2"
  },
  "language_info": {
   "codemirror_mode": {
    "name": "ipython",
    "version": 2
   },
   "file_extension": ".py",
   "mimetype": "text/x-python",
   "name": "python",
   "nbconvert_exporter": "python",
   "pygments_lexer": "ipython2",
   "version": "2.7.11"
  }
 },
 "nbformat": 4,
 "nbformat_minor": 0
}
