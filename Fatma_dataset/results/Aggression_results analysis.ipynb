{
 "cells": [
  {
   "cell_type": "code",
   "execution_count": 1,
   "metadata": {},
   "outputs": [],
   "source": [
    "import pandas as pd\n",
    "import numpy as np\n",
    "from sklearn.metrics import roc_auc_score as auc\n",
    "from sklearn.metrics import roc_curve, f1_score, balanced_accuracy_score, accuracy_score\n",
    "from  sklearn.metrics import confusion_matrix as cm\n",
    "import matplotlib.pyplot as plt\n",
    "import nltk"
   ]
  },
  {
   "cell_type": "markdown",
   "metadata": {},
   "source": [
    "# Aggression dataset - linear - word - oh label"
   ]
  },
  {
   "cell_type": "code",
   "execution_count": 2,
   "metadata": {},
   "outputs": [],
   "source": [
    "aggression_rs = pd.read_csv(\"linear_word_oh_aggression_prediction_results.csv\")"
   ]
  },
  {
   "cell_type": "code",
   "execution_count": 3,
   "metadata": {},
   "outputs": [],
   "source": [
    "aggression_data = pd.read_csv(\"../aggression_parsed_dataset.csv\")"
   ]
  },
  {
   "cell_type": "code",
   "execution_count": 4,
   "metadata": {},
   "outputs": [
    {
     "name": "stdout",
     "output_type": "stream",
     "text": [
      "115864\n"
     ]
    },
    {
     "data": {
      "text/plain": [
       "0.1275806117517089"
      ]
     },
     "execution_count": 4,
     "metadata": {},
     "output_type": "execute_result"
    }
   ],
   "source": [
    "aggression_data = aggression_data.dropna()\n",
    "print(len(aggression_data))\n",
    "len(aggression_data[aggression_data[\"oh_label\"] == 1])/len(aggression_data)"
   ]
  },
  {
   "cell_type": "code",
   "execution_count": 5,
   "metadata": {},
   "outputs": [
    {
     "data": {
      "text/plain": [
       "14782"
      ]
     },
     "execution_count": 5,
     "metadata": {},
     "output_type": "execute_result"
    }
   ],
   "source": [
    "len(aggression_data[aggression_data[\"oh_label\"] == 1])"
   ]
  },
  {
   "cell_type": "code",
   "execution_count": 6,
   "metadata": {},
   "outputs": [
    {
     "data": {
      "text/plain": [
       "101082"
      ]
     },
     "execution_count": 6,
     "metadata": {},
     "output_type": "execute_result"
    }
   ],
   "source": [
    "len(aggression_data[aggression_data[\"oh_label\"] == 0])"
   ]
  },
  {
   "cell_type": "code",
   "execution_count": 6,
   "metadata": {},
   "outputs": [
    {
     "data": {
      "text/plain": [
       "Index(['Unnamed: 0', 'y_true_bool', 'y_predict_prob_0', 'y_predict_prob_1',\n",
       "       'y_true_binary', 'y_prediction'],\n",
       "      dtype='object')"
      ]
     },
     "execution_count": 6,
     "metadata": {},
     "output_type": "execute_result"
    }
   ],
   "source": [
    "aggression_rs.columns"
   ]
  },
  {
   "cell_type": "code",
   "execution_count": 108,
   "metadata": {},
   "outputs": [
    {
     "data": {
      "text/plain": [
       "(0, 25000)"
      ]
     },
     "execution_count": 108,
     "metadata": {},
     "output_type": "execute_result"
    },
    {
     "data": {
      "image/png": "[encoded data removed]",
      "text/plain": [
       "<Figure size 432x288 with 1 Axes>"
      ]
     },
     "metadata": {
      "needs_background": "light"
     },
     "output_type": "display_data"
    }
   ],
   "source": [
    "# 1 prediction distribution of aggression\n",
    "# 0 negative prediction distribution of aggression\n",
    "plt.hist([aggression_rs[\"y_predict_prob_1\"],aggression_rs[\"y_predict_prob_0\"]])\n",
    "plt.ylim(0, 25000)"
   ]
  },
  {
   "cell_type": "code",
   "execution_count": 23,
   "metadata": {},
   "outputs": [],
   "source": [
    "def return_no_words(x):\n",
    "    x = nltk.tokenize.word_tokenize(x)\n",
    "    return len(x)"
   ]
  },
  {
   "cell_type": "code",
   "execution_count": 34,
   "metadata": {},
   "outputs": [],
   "source": [
    "#avergae number of words per post\n",
    "aggression_data[\"No words\"] = aggression_data[\"Text\"].apply(lambda x : return_no_words(x))"
   ]
  },
  {
   "cell_type": "code",
   "execution_count": 36,
   "metadata": {},
   "outputs": [
    {
     "data": {
      "text/plain": [
       "83.81127010978389"
      ]
     },
     "execution_count": 36,
     "metadata": {},
     "output_type": "execute_result"
    }
   ],
   "source": [
    "np.mean(aggression_data[\"No words\"])"
   ]
  },
  {
   "cell_type": "code",
   "execution_count": 125,
   "metadata": {},
   "outputs": [
    {
     "data": {
      "text/plain": [
       "160.59556305295038"
      ]
     },
     "execution_count": 125,
     "metadata": {},
     "output_type": "execute_result"
    }
   ],
   "source": [
    "np.std(aggression_data[\"No words\"])"
   ]
  },
  {
   "cell_type": "code",
   "execution_count": 69,
   "metadata": {},
   "outputs": [
    {
     "data": {
      "text/plain": [
       "(0, 3000)"
      ]
     },
     "execution_count": 69,
     "metadata": {},
     "output_type": "execute_result"
    },
    {
     "data": {
      "image/png": "[encoded data removed]",
      "text/plain": [
       "<Figure size 432x288 with 1 Axes>"
      ]
     },
     "metadata": {
      "needs_background": "light"
     },
     "output_type": "display_data"
    }
   ],
   "source": [
    "plt.hist(aggression_data[\"No words\"])\n",
    "plt.xlim(0,3000)"
   ]
  },
  {
   "cell_type": "code",
   "execution_count": 70,
   "metadata": {},
   "outputs": [
    {
     "data": {
      "text/plain": [
       "5"
      ]
     },
     "execution_count": 70,
     "metadata": {},
     "output_type": "execute_result"
    }
   ],
   "source": [
    "len(aggression_data[aggression_data[\"No words\"] == 0])"
   ]
  },
  {
   "cell_type": "code",
   "execution_count": 71,
   "metadata": {},
   "outputs": [
    {
     "data": {
      "text/html": [
       "<div>\n",
       "<style scoped>\n",
       "    .dataframe tbody tr th:only-of-type {\n",
       "        vertical-align: middle;\n",
       "    }\n",
       "\n",
       "    .dataframe tbody tr th {\n",
       "        vertical-align: top;\n",
       "    }\n",
       "\n",
       "    .dataframe thead th {\n",
       "        text-align: right;\n",
       "    }\n",
       "</style>\n",
       "<table border=\"1\" class=\"dataframe\">\n",
       "  <thead>\n",
       "    <tr style=\"text-align: right;\">\n",
       "      <th></th>\n",
       "      <th>index</th>\n",
       "      <th>Text</th>\n",
       "      <th>ed_label_0</th>\n",
       "      <th>ed_label_1</th>\n",
       "      <th>oh_label</th>\n",
       "      <th>No words</th>\n",
       "    </tr>\n",
       "  </thead>\n",
       "  <tbody>\n",
       "    <tr>\n",
       "      <th>948</th>\n",
       "      <td>948</td>\n",
       "      <td></td>\n",
       "      <td>1.0</td>\n",
       "      <td>0.0</td>\n",
       "      <td>0</td>\n",
       "      <td>0</td>\n",
       "    </tr>\n",
       "    <tr>\n",
       "      <th>1832</th>\n",
       "      <td>1832</td>\n",
       "      <td></td>\n",
       "      <td>1.0</td>\n",
       "      <td>0.0</td>\n",
       "      <td>0</td>\n",
       "      <td>0</td>\n",
       "    </tr>\n",
       "    <tr>\n",
       "      <th>1859</th>\n",
       "      <td>1859</td>\n",
       "      <td></td>\n",
       "      <td>1.0</td>\n",
       "      <td>0.0</td>\n",
       "      <td>0</td>\n",
       "      <td>0</td>\n",
       "    </tr>\n",
       "    <tr>\n",
       "      <th>73273</th>\n",
       "      <td>73273</td>\n",
       "      <td></td>\n",
       "      <td>1.0</td>\n",
       "      <td>0.0</td>\n",
       "      <td>0</td>\n",
       "      <td>0</td>\n",
       "    </tr>\n",
       "    <tr>\n",
       "      <th>82642</th>\n",
       "      <td>82642</td>\n",
       "      <td></td>\n",
       "      <td>1.0</td>\n",
       "      <td>0.0</td>\n",
       "      <td>0</td>\n",
       "      <td>0</td>\n",
       "    </tr>\n",
       "  </tbody>\n",
       "</table>\n",
       "</div>"
      ],
      "text/plain": [
       "       index     Text  ed_label_0  ed_label_1  oh_label  No words\n",
       "948      948                  1.0         0.0         0         0\n",
       "1832    1832                  1.0         0.0         0         0\n",
       "1859    1859                  1.0         0.0         0         0\n",
       "73273  73273                  1.0         0.0         0         0\n",
       "82642  82642                  1.0         0.0         0         0"
      ]
     },
     "execution_count": 71,
     "metadata": {},
     "output_type": "execute_result"
    }
   ],
   "source": [
    "aggression_data[aggression_data[\"No words\"] == 0]"
   ]
  },
  {
   "cell_type": "code",
   "execution_count": 72,
   "metadata": {},
   "outputs": [
    {
     "data": {
      "text/plain": [
       "545"
      ]
     },
     "execution_count": 72,
     "metadata": {},
     "output_type": "execute_result"
    }
   ],
   "source": [
    "len(aggression_data[aggression_data[\"No words\"] > 1000])"
   ]
  },
  {
   "cell_type": "code",
   "execution_count": 99,
   "metadata": {},
   "outputs": [
    {
     "data": {
      "text/plain": [
       "(0, 90)"
      ]
     },
     "execution_count": 99,
     "metadata": {},
     "output_type": "execute_result"
    },
    {
     "data": {
      "image/png": "[encoded data removed]",
      "text/plain": [
       "<Figure size 432x288 with 1 Axes>"
      ]
     },
     "metadata": {
      "needs_background": "light"
     },
     "output_type": "display_data"
    }
   ],
   "source": [
    "plt.hist(aggression_data[(aggression_data[\"No words\"] > 0) & (aggression_data[\"No words\"] <= 83)][\"No words\"])\n",
    "plt.xlim(0,90)"
   ]
  },
  {
   "cell_type": "code",
   "execution_count": 92,
   "metadata": {},
   "outputs": [
    {
     "data": {
      "text/plain": [
       "1190"
      ]
     },
     "execution_count": 92,
     "metadata": {},
     "output_type": "execute_result"
    }
   ],
   "source": [
    "len(aggression_data[aggression_data[\"No words\"] == 5])"
   ]
  },
  {
   "cell_type": "code",
   "execution_count": 90,
   "metadata": {},
   "outputs": [
    {
     "data": {
      "text/plain": [
       "(0, 50)"
      ]
     },
     "execution_count": 90,
     "metadata": {},
     "output_type": "execute_result"
    },
    {
     "data": {
      "image/png": "[encoded data removed]",
      "text/plain": [
       "<Figure size 432x288 with 1 Axes>"
      ]
     },
     "metadata": {
      "needs_background": "light"
     },
     "output_type": "display_data"
    }
   ],
   "source": [
    "plt.hist(aggression_data[(aggression_data[\"No words\"] > 0) & (aggression_data[\"No words\"] < 50)][\"No words\"])\n",
    "plt.xlim(0,50)"
   ]
  },
  {
   "cell_type": "code",
   "execution_count": null,
   "metadata": {},
   "outputs": [],
   "source": []
  },
  {
   "cell_type": "code",
   "execution_count": 45,
   "metadata": {},
   "outputs": [],
   "source": [
    "# predict.prob scores\n",
    "fpr, tpr, thrshold = roc_curve(aggression_rs[\"y_true_bool\"], aggression_rs[\"y_predict_prob_1\"])\n",
    "roc_auc = auc(aggression_rs[\"y_true_bool\"], aggression_rs[\"y_predict_prob_1\"])"
   ]
  },
  {
   "cell_type": "code",
   "execution_count": 46,
   "metadata": {},
   "outputs": [
    {
     "name": "stdout",
     "output_type": "stream",
     "text": [
      "AUC score 0.9379941209888045\n"
     ]
    }
   ],
   "source": [
    "print(\"AUC score\", roc_auc)"
   ]
  },
  {
   "cell_type": "code",
   "execution_count": 47,
   "metadata": {},
   "outputs": [
    {
     "data": {
      "image/png": "[encoded data removed]",
      "text/plain": [
       "<Figure size 432x288 with 1 Axes>"
      ]
     },
     "metadata": {
      "needs_background": "light"
     },
     "output_type": "display_data"
    }
   ],
   "source": [
    "plt.figure()\n",
    "lw = 2\n",
    "plt.plot(fpr, tpr, color='darkorange',\n",
    "         lw=lw, label='ROC curve (area = %0.2f)' % roc_auc)\n",
    "plt.plot([0, 1], [0, 1], color='navy', lw=lw, linestyle='--')\n",
    "plt.xlim([0.0, 1.0])\n",
    "plt.ylim([0.0, 1.05])\n",
    "plt.xlabel('False Positive Rate')\n",
    "plt.ylabel('True Positive Rate')\n",
    "plt.title('Receiver operating characteristic example')\n",
    "plt.legend(loc=\"lower right\")\n",
    "plt.show()"
   ]
  },
  {
   "cell_type": "code",
   "execution_count": 50,
   "metadata": {},
   "outputs": [
    {
     "name": "stdout",
     "output_type": "stream",
     "text": [
      "AUC score 0.8083884355920188\n"
     ]
    }
   ],
   "source": [
    "# predict scores\n",
    "fpr, tpr, thrshold = roc_curve(aggression_rs[\"y_true_binary\"], aggression_rs[\"y_prediction\"])\n",
    "roc_auc = auc(aggression_rs[\"y_true_binary\"], aggression_rs[\"y_prediction\"])\n",
    "print(\"AUC score\", roc_auc)"
   ]
  },
  {
   "cell_type": "code",
   "execution_count": 56,
   "metadata": {},
   "outputs": [],
   "source": [
    "# Confusion Matrix\n",
    "tn, fp, fn, tp = cm(y_true=aggression_rs[\"y_true_binary\"], y_pred=aggression_rs[\"y_prediction\"]).ravel()"
   ]
  },
  {
   "cell_type": "code",
   "execution_count": 57,
   "metadata": {},
   "outputs": [
    {
     "data": {
      "text/plain": [
       "(24731, 481, 1367, 2387)"
      ]
     },
     "execution_count": 57,
     "metadata": {},
     "output_type": "execute_result"
    }
   ],
   "source": [
    "tn, fp, fn, tp "
   ]
  },
  {
   "cell_type": "code",
   "execution_count": 59,
   "metadata": {},
   "outputs": [],
   "source": [
    "F1_score = f1_score(y_true=aggression_rs[\"y_true_binary\"], y_pred=aggression_rs[\"y_prediction\"])"
   ]
  },
  {
   "cell_type": "code",
   "execution_count": 60,
   "metadata": {},
   "outputs": [
    {
     "data": {
      "text/plain": [
       "0.7209302325581396"
      ]
     },
     "execution_count": 60,
     "metadata": {},
     "output_type": "execute_result"
    }
   ],
   "source": [
    "F1_score"
   ]
  },
  {
   "cell_type": "code",
   "execution_count": 63,
   "metadata": {},
   "outputs": [
    {
     "data": {
      "text/plain": [
       "0.8083884355920188"
      ]
     },
     "execution_count": 63,
     "metadata": {},
     "output_type": "execute_result"
    }
   ],
   "source": [
    "# balanced accuracy\n",
    "balanced_accuracy_score(y_true=aggression_rs[\"y_true_binary\"], y_pred=aggression_rs[\"y_prediction\"])"
   ]
  },
  {
   "cell_type": "code",
   "execution_count": 65,
   "metadata": {},
   "outputs": [
    {
     "data": {
      "text/plain": [
       "0.9362010633156114"
      ]
     },
     "execution_count": 65,
     "metadata": {},
     "output_type": "execute_result"
    }
   ],
   "source": [
    "#imbalanced accuracy score - NOT TO Trust\n",
    "accuracy_score(y_true=aggression_rs[\"y_true_binary\"], y_pred=aggression_rs[\"y_prediction\"])"
   ]
  },
  {
   "cell_type": "markdown",
   "metadata": {},
   "source": [
    "# Aggression dataset - linear - char - oh label"
   ]
  },
  {
   "cell_type": "code",
   "execution_count": 100,
   "metadata": {},
   "outputs": [],
   "source": [
    "aggression_char_rs = pd.read_csv(\"linear_char_oh_aggression_prediction_results.csv\")"
   ]
  },
  {
   "cell_type": "code",
   "execution_count": 126,
   "metadata": {},
   "outputs": [
    {
     "data": {
      "text/plain": [
       "(0, 25000)"
      ]
     },
     "execution_count": 126,
     "metadata": {},
     "output_type": "execute_result"
    },
    {
     "data": {
      "image/png": "[encoded data removed]",
      "text/plain": [
       "<Figure size 432x288 with 1 Axes>"
      ]
     },
     "metadata": {
      "needs_background": "light"
     },
     "output_type": "display_data"
    }
   ],
   "source": [
    "# 1 prediction distribution of aggression\n",
    "# 0 negative prediction distribution of aggression\n",
    "plt.hist([aggression_char_rs[\"y_predict_prob_1\"],aggression_char_rs[\"y_predict_prob_0\"]])\n",
    "plt.ylim(0, 25000, 500)"
   ]
  },
  {
   "cell_type": "code",
   "execution_count": 110,
   "metadata": {},
   "outputs": [
    {
     "name": "stdout",
     "output_type": "stream",
     "text": [
      "AUC score 0.9105041568478747\n"
     ]
    },
    {
     "data": {
      "image/png": "[encoded data removed]",
      "text/plain": [
       "<Figure size 432x288 with 1 Axes>"
      ]
     },
     "metadata": {
      "needs_background": "light"
     },
     "output_type": "display_data"
    }
   ],
   "source": [
    "# predict.prob scores\n",
    "fpr, tpr, thrshold = roc_curve(aggression_char_rs[\"y_true_bool\"], aggression_char_rs[\"y_predict_prob_1\"])\n",
    "roc_auc = auc(aggression_char_rs[\"y_true_bool\"], aggression_char_rs[\"y_predict_prob_1\"])\n",
    "print(\"AUC score\", roc_auc)\n",
    "plt.figure()\n",
    "lw = 2\n",
    "plt.plot(fpr, tpr, color='darkorange',\n",
    "         lw=lw, label='ROC curve (area = %0.2f)' % roc_auc)\n",
    "plt.plot([0, 1], [0, 1], color='navy', lw=lw, linestyle='--')\n",
    "plt.xlim([0.0, 1.0])\n",
    "plt.ylim([0.0, 1.05])\n",
    "plt.xlabel('False Positive Rate')\n",
    "plt.ylabel('True Positive Rate')\n",
    "plt.title('Receiver operating characteristic example')\n",
    "plt.legend(loc=\"lower right\")\n",
    "plt.show()"
   ]
  },
  {
   "cell_type": "code",
   "execution_count": 112,
   "metadata": {},
   "outputs": [
    {
     "name": "stdout",
     "output_type": "stream",
     "text": [
      "AUC score 0.8083884355920188\n",
      "CM 24731 481 1367 2387\n",
      "F1-score 0.7209302325581396\n",
      "balanced_accuracy_score 0.8083884355920188\n",
      "imbalanced_accuracy_score 0.9362010633156114\n"
     ]
    }
   ],
   "source": [
    "# predict scores\n",
    "fpr, tpr, thrshold = roc_curve(aggression_rs[\"y_true_binary\"], aggression_rs[\"y_prediction\"])\n",
    "roc_auc = auc(aggression_rs[\"y_true_binary\"], aggression_rs[\"y_prediction\"])\n",
    "print(\"AUC score\", roc_auc)\n",
    "# Confusion Matrix\n",
    "tn, fp, fn, tp = cm(y_true=aggression_rs[\"y_true_binary\"], y_pred=aggression_rs[\"y_prediction\"]).ravel()\n",
    "print(\"CM\", tn, fp, fn, tp)\n",
    "F1_score = f1_score(y_true=aggression_rs[\"y_true_binary\"], y_pred=aggression_rs[\"y_prediction\"])\n",
    "print(\"F1-score\", F1_score)\n",
    "# balanced accuracy\n",
    "balanced_accuracy_score = balanced_accuracy_score(y_true=aggression_rs[\"y_true_binary\"], y_pred=aggression_rs[\"y_prediction\"])\n",
    "print(\"balanced_accuracy_score\", balanced_accuracy_score)\n",
    "#imbalanced accuracy score - NOT TO Trust\n",
    "imbalanced_accuracy_score = accuracy_score(y_true=aggression_rs[\"y_true_binary\"], y_pred=aggression_rs[\"y_prediction\"])\n",
    "print(\"imbalanced_accuracy_score\", imbalanced_accuracy_score)"
   ]
  },
  {
   "cell_type": "markdown",
   "metadata": {},
   "source": [
    "# Aggression MLP word oh"
   ]
  },
  {
   "cell_type": "code",
   "execution_count": 113,
   "metadata": {},
   "outputs": [],
   "source": [
    "agression_mlp_rs = pd.read_csv(\"mlp_word_oh_aggression_prediction_results.csv\")"
   ]
  },
  {
   "cell_type": "code",
   "execution_count": 114,
   "metadata": {},
   "outputs": [
    {
     "data": {
      "text/plain": [
       "(0, 25000)"
      ]
     },
     "execution_count": 114,
     "metadata": {},
     "output_type": "execute_result"
    },
    {
     "data": {
      "image/png": "[encoded data removed]",
      "text/plain": [
       "<Figure size 432x288 with 1 Axes>"
      ]
     },
     "metadata": {
      "needs_background": "light"
     },
     "output_type": "display_data"
    }
   ],
   "source": [
    "# 1 prediction distribution of aggression\n",
    "# 0 negative prediction distribution of aggression\n",
    "plt.hist([agression_mlp_rs[\"y_predict_prob_1\"],agression_mlp_rs[\"y_predict_prob_0\"]])\n",
    "plt.ylim(0, 25000)"
   ]
  },
  {
   "cell_type": "code",
   "execution_count": 115,
   "metadata": {},
   "outputs": [
    {
     "name": "stdout",
     "output_type": "stream",
     "text": [
      "AUC score 0.9403473145488646\n"
     ]
    },
    {
     "data": {
      "image/png": "[encoded data removed]",
      "text/plain": [
       "<Figure size 432x288 with 1 Axes>"
      ]
     },
     "metadata": {
      "needs_background": "light"
     },
     "output_type": "display_data"
    }
   ],
   "source": [
    "# predict.prob scores\n",
    "fpr, tpr, thrshold = roc_curve(agression_mlp_rs[\"y_true_bool\"], agression_mlp_rs[\"y_predict_prob_1\"])\n",
    "roc_auc = auc(agression_mlp_rs[\"y_true_bool\"], agression_mlp_rs[\"y_predict_prob_1\"])\n",
    "print(\"AUC score\", roc_auc)\n",
    "plt.figure()\n",
    "lw = 2\n",
    "plt.plot(fpr, tpr, color='darkorange',\n",
    "         lw=lw, label='ROC curve (area = %0.2f)' % roc_auc)\n",
    "plt.plot([0, 1], [0, 1], color='navy', lw=lw, linestyle='--')\n",
    "plt.xlim([0.0, 1.0])\n",
    "plt.ylim([0.0, 1.05])\n",
    "plt.xlabel('False Positive Rate')\n",
    "plt.ylabel('True Positive Rate')\n",
    "plt.title('Receiver operating characteristic example')\n",
    "plt.legend(loc=\"lower right\")\n",
    "plt.show()"
   ]
  },
  {
   "cell_type": "code",
   "execution_count": 119,
   "metadata": {},
   "outputs": [
    {
     "name": "stdout",
     "output_type": "stream",
     "text": [
      "AUC score 0.7552015488307529\n",
      "CM 24937 275 1797 1957\n",
      "F1-score 0.6538590043434681\n"
     ]
    }
   ],
   "source": [
    "# predict scores\n",
    "fpr, tpr, thrshold = roc_curve(agression_mlp_rs[\"y_true_binary\"], agression_mlp_rs[\"y_prediction\"])\n",
    "roc_auc = auc(agression_mlp_rs[\"y_true_binary\"], agression_mlp_rs[\"y_prediction\"])\n",
    "print(\"AUC score\", roc_auc)\n",
    "# Confusion Matrix\n",
    "tn, fp, fn, tp = cm(y_true=agression_mlp_rs[\"y_true_binary\"], y_pred=agression_mlp_rs[\"y_prediction\"]).ravel()\n",
    "print(\"CM\", tn, fp, fn, tp)\n",
    "F1_score = f1_score(y_true=agression_mlp_rs[\"y_true_binary\"], y_pred=agression_mlp_rs[\"y_prediction\"])\n",
    "print(\"F1-score\", F1_score)"
   ]
  },
  {
   "cell_type": "code",
   "execution_count": 120,
   "metadata": {},
   "outputs": [
    {
     "name": "stdout",
     "output_type": "stream",
     "text": [
      "imbalanced_accuracy_score 0.9284678588690188\n"
     ]
    }
   ],
   "source": [
    "#imbalanced accuracy - Not to trust\n",
    "imbalanced_accuracy_score = accuracy_score(y_true=agression_mlp_rs[\"y_true_binary\"], y_pred=agression_mlp_rs[\"y_prediction\"])\n",
    "print(\"imbalanced_accuracy_score\", imbalanced_accuracy_score)"
   ]
  },
  {
   "cell_type": "markdown",
   "metadata": {},
   "source": [
    "# aggression MLP char oh"
   ]
  },
  {
   "cell_type": "code",
   "execution_count": 121,
   "metadata": {},
   "outputs": [],
   "source": [
    "agression_mlp_char_rs = pd.read_csv(\"mlp_char_oh_aggression_prediction_results.csv\")"
   ]
  },
  {
   "cell_type": "code",
   "execution_count": 122,
   "metadata": {},
   "outputs": [
    {
     "data": {
      "text/plain": [
       "(0, 25000)"
      ]
     },
     "execution_count": 122,
     "metadata": {},
     "output_type": "execute_result"
    },
    {
     "data": {
      "image/png": "[encoded data removed]",
      "text/plain": [
       "<Figure size 432x288 with 1 Axes>"
      ]
     },
     "metadata": {
      "needs_background": "light"
     },
     "output_type": "display_data"
    }
   ],
   "source": [
    "# 1 prediction distribution of aggression\n",
    "# 0 negative prediction distribution of aggression\n",
    "plt.hist([agression_mlp_char_rs[\"y_predict_prob_1\"],agression_mlp_char_rs[\"y_predict_prob_0\"]])\n",
    "plt.ylim(0, 25000)"
   ]
  },
  {
   "cell_type": "code",
   "execution_count": 123,
   "metadata": {},
   "outputs": [
    {
     "name": "stdout",
     "output_type": "stream",
     "text": [
      "AUC score 0.9417900340146901\n"
     ]
    },
    {
     "data": {
      "image/png": "[encoded data removed]",
      "text/plain": [
       "<Figure size 432x288 with 1 Axes>"
      ]
     },
     "metadata": {
      "needs_background": "light"
     },
     "output_type": "display_data"
    }
   ],
   "source": [
    "# predict.prob scores\n",
    "fpr, tpr, thrshold = roc_curve(agression_mlp_char_rs[\"y_true_bool\"], agression_mlp_char_rs[\"y_predict_prob_1\"])\n",
    "roc_auc = auc(agression_mlp_char_rs[\"y_true_bool\"], agression_mlp_char_rs[\"y_predict_prob_1\"])\n",
    "print(\"AUC score\", roc_auc)\n",
    "plt.figure()\n",
    "lw = 2\n",
    "plt.plot(fpr, tpr, color='darkorange',\n",
    "         lw=lw, label='ROC curve (area = %0.2f)' % roc_auc)\n",
    "plt.plot([0, 1], [0, 1], color='navy', lw=lw, linestyle='--')\n",
    "plt.xlim([0.0, 1.0])\n",
    "plt.ylim([0.0, 1.05])\n",
    "plt.xlabel('False Positive Rate')\n",
    "plt.ylabel('True Positive Rate')\n",
    "plt.title('Receiver operating characteristic example')\n",
    "plt.legend(loc=\"lower right\")\n",
    "plt.show()"
   ]
  },
  {
   "cell_type": "code",
   "execution_count": 124,
   "metadata": {},
   "outputs": [
    {
     "name": "stdout",
     "output_type": "stream",
     "text": [
      "AUC score 0.7597327013925319\n",
      "CM 24897 346 1738 1985\n",
      "F1-score 0.6557647836141393\n"
     ]
    }
   ],
   "source": [
    "# predict scores\n",
    "fpr, tpr, thrshold = roc_curve(agression_mlp_char_rs[\"y_true_binary\"], agression_mlp_char_rs[\"y_prediction\"])\n",
    "roc_auc = auc(agression_mlp_char_rs[\"y_true_binary\"], agression_mlp_char_rs[\"y_prediction\"])\n",
    "print(\"AUC score\", roc_auc)\n",
    "# Confusion Matrix\n",
    "tn, fp, fn, tp = cm(y_true=agression_mlp_char_rs[\"y_true_binary\"], y_pred=agression_mlp_char_rs[\"y_prediction\"]).ravel()\n",
    "print(\"CM\", tn, fp, fn, tp)\n",
    "F1_score = f1_score(y_true=agression_mlp_char_rs[\"y_true_binary\"], y_pred=agression_mlp_char_rs[\"y_prediction\"])\n",
    "print(\"F1-score\", F1_score)"
   ]
  },
  {
   "cell_type": "code",
   "execution_count": null,
   "metadata": {},
   "outputs": [],
   "source": []
  }
 ],
 "metadata": {
  "kernelspec": {
   "display_name": "Python 3",
   "language": "python",
   "name": "python3"
  },
  "language_info": {
   "codemirror_mode": {
    "name": "ipython",
    "version": 3
   },
   "file_extension": ".py",
   "mimetype": "text/x-python",
   "name": "python",
   "nbconvert_exporter": "python",
   "pygments_lexer": "ipython3",
   "version": "3.6.8"
  }
 },
 "nbformat": 4,
 "nbformat_minor": 4
}
