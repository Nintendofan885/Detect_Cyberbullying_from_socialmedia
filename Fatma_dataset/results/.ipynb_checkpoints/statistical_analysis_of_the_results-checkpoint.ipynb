{
 "cells": [
  {
   "cell_type": "code",
   "execution_count": 1,
   "metadata": {},
   "outputs": [],
   "source": [
    "# Friedman test\n",
    "from numpy.random import seed\n",
    "from numpy.random import randn\n",
    "from scipy.stats import friedmanchisquare\n",
    "from scipy.stats import wilcoxon"
   ]
  },
  {
   "cell_type": "code",
   "execution_count": 8,
   "metadata": {},
   "outputs": [],
   "source": [
    "linear_data_auc = [0.81,\n",
    "0.755,\n",
    "0.8314906437,\n",
    "0.7539332726,\n",
    "0.8245380867,\n",
    "0.7584233473,\n",
    "0.7517722879,\n",
    "0.7487344497,\n",
    "0.8328189237,\n",
    "0.812883965,\n",
    "0.7982637766,\n",
    "0.7892754763,\n",
    "0.5406445589,\n",
    "0.5366388267,\n",
    "0.8036370535,\n",
    "0.7321669331]"
   ]
  },
  {
   "cell_type": "code",
   "execution_count": 9,
   "metadata": {},
   "outputs": [],
   "source": [
    "MLP_data_auc = [0.7981170304,\n",
    "0.7582374044,\n",
    "0.7584471171,\n",
    "0.7805908075,\n",
    "0.7880949868,\n",
    "0.7905502646,\n",
    "0.5,\n",
    "0.5,\n",
    "0.5,\n",
    "0.5,\n",
    "0.5,\n",
    "0.5,\n",
    "0.5,\n",
    "0.5,\n",
    "0.7758829932,\n",
    "0]"
   ]
  },
  {
   "cell_type": "code",
   "execution_count": 10,
   "metadata": {},
   "outputs": [],
   "source": [
    "LSTM_data_auc = [0.8371637927,\n",
    "0.6395545327,\n",
    "0.8527021244,\n",
    "0.6452299307,\n",
    "0.8437214286,\n",
    "0.6424380375,\n",
    "0.7108357848,\n",
    "0.5157340311,\n",
    "0.8445633819,\n",
    "0.4996560028,\n",
    "0.7673912334,\n",
    "0.548816518,\n",
    "0.5,\n",
    "0.5,\n",
    "0.8357538075,\n",
    "0.6606008202]"
   ]
  },
  {
   "cell_type": "code",
   "execution_count": 11,
   "metadata": {},
   "outputs": [],
   "source": [
    "Conv_LSTM_auc = [0.6991897553,\n",
    "0.7949890719,\n",
    "0.7843857857,\n",
    "0.8063458599,\n",
    "0.7448299819,\n",
    "0.7810257645,\n",
    "0.6275868441,\n",
    "0.6592942721,\n",
    "0.8512499893,\n",
    "0.8050270238,\n",
    "0.795311608,\n",
    "0.7786492979,\n",
    "0.5,\n",
    "0.5,\n",
    "0.778321798,\n",
    "0.7777927697]"
   ]
  },
  {
   "cell_type": "code",
   "execution_count": 12,
   "metadata": {},
   "outputs": [
    {
     "name": "stdout",
     "output_type": "stream",
     "text": [
      "Statistics=10.974, p=0.012\n",
      "Different distributions (reject H0)\n"
     ]
    }
   ],
   "source": [
    "stat, p = friedmanchisquare(linear_data_auc, MLP_data_auc, LSTM_data_auc, Conv_LSTM_auc)\n",
    "print('Statistics=%.3f, p=%.3f' % (stat, p))\n",
    "# interpret\n",
    "alpha = 0.05\n",
    "if p > alpha:\n",
    "    print('Same distributions (fail to reject H0)')\n",
    "else:\n",
    "    print('Different distributions (reject H0)')"
   ]
  },
  {
   "cell_type": "code",
   "execution_count": 13,
   "metadata": {},
   "outputs": [],
   "source": [
    "Linear_F_score = [0.72,\n",
    "0.636,\n",
    "0.7559976594,\n",
    "0.6312210201,\n",
    "0.7408866995,\n",
    "0.6401279545,\n",
    "0.6763518967,\n",
    "0.6502311248,\n",
    "0.7403314917,\n",
    "0.7041284404,\n",
    "0.7222595831,\n",
    "0.6984957489,\n",
    "0.1538461538,\n",
    "0.1487603306,\n",
    "0.7062729036,\n",
    "0.5940510314]"
   ]
  },
  {
   "cell_type": "code",
   "execution_count": 14,
   "metadata": {},
   "outputs": [],
   "source": [
    "MLP_F_score = [0.7050228311,\n",
    "0.6568077511,\n",
    "0.6638627187,\n",
    "0.6804941284,\n",
    "0.7018960674,\n",
    "0.6977964323,\n",
    "0,\n",
    "0,\n",
    "0,\n",
    "0,\n",
    "0,\n",
    "0,\n",
    "0,\n",
    "0,\n",
    "0.6690025281,\n",
    "0]"
   ]
  },
  {
   "cell_type": "code",
   "execution_count": 15,
   "metadata": {},
   "outputs": [],
   "source": [
    "LSTM_F_score = [0.756001746,\n",
    "0.423919479,\n",
    "0.7814814815,\n",
    "0.4407436096,\n",
    "0.7650767987,\n",
    "0.4291515281,\n",
    "0.6050895382,\n",
    "0.09845288326,\n",
    "0.7334754797,\n",
    "0,\n",
    "0.6788732394,\n",
    "0.1971830986,\n",
    "0,\n",
    "0,\n",
    "0.7418110971,\n",
    "0.4654685083]"
   ]
  },
  {
   "cell_type": "code",
   "execution_count": 16,
   "metadata": {},
   "outputs": [],
   "source": [
    "Conv_LSTM_score = [0.5375672393,\n",
    "0.6747462506,\n",
    "0.6919504644,\n",
    "0.7100949094,\n",
    "0.6308385933,\n",
    "0.6787620064,\n",
    "0.4514811032,\n",
    "0.5365025467,\n",
    "0.7430910952,\n",
    "0.692139738,\n",
    "0.7089262613,\n",
    "0.6917293233,\n",
    "0,\n",
    "0,\n",
    "0.6679495212,\n",
    "0.6672292046]"
   ]
  },
  {
   "cell_type": "code",
   "execution_count": 17,
   "metadata": {},
   "outputs": [
    {
     "name": "stdout",
     "output_type": "stream",
     "text": [
      "Statistics=13.933, p=0.003\n",
      "Different distributions (reject H0)\n"
     ]
    }
   ],
   "source": [
    "stat, p = friedmanchisquare(Linear_F_scaore, MLP_F_score, LSTM_F_score, LSTM_F_score)\n",
    "print('Statistics=%.3f, p=%.3f' % (stat, p))\n",
    "# interpret\n",
    "alpha = 0.05\n",
    "if p > alpha:\n",
    "    print('Same distributions (fail to reject H0)')\n",
    "else:\n",
    "    print('Different distributions (reject H0)')"
   ]
  },
  {
   "cell_type": "code",
   "execution_count": 20,
   "metadata": {},
   "outputs": [
    {
     "name": "stdout",
     "output_type": "stream",
     "text": [
      "Statistics=39.000, p=0.134\n",
      "Same distribution (fail to reject H0)\n"
     ]
    }
   ],
   "source": [
    "stat, p = wilcoxon(linear_data_auc, Conv_LSTM_auc)\n",
    "print('Statistics=%.3f, p=%.3f' % (stat, p))\n",
    "# interpret\n",
    "alpha = 0.05\n",
    "if p > alpha:\n",
    "    print('Same distribution (fail to reject H0)')\n",
    "else:\n",
    "    print('Different distribution (reject H0)')"
   ]
  },
  {
   "cell_type": "code",
   "execution_count": 21,
   "metadata": {},
   "outputs": [
    {
     "name": "stdout",
     "output_type": "stream",
     "text": [
      "Statistics=33.000, p=0.070\n",
      "Same distribution (fail to reject H0)\n"
     ]
    }
   ],
   "source": [
    "stat, p = wilcoxon(Linear_F_scaore, Conv_LSTM_score)\n",
    "print('Statistics=%.3f, p=%.3f' % (stat, p))\n",
    "# interpret\n",
    "alpha = 0.05\n",
    "if p > alpha:\n",
    "    print('Same distribution (fail to reject H0)')\n",
    "else:\n",
    "    print('Different distribution (reject H0)')"
   ]
  },
  {
   "cell_type": "code",
   "execution_count": 23,
   "metadata": {},
   "outputs": [
    {
     "name": "stdout",
     "output_type": "stream",
     "text": [
      "Statistics=16.000, p=0.007\n",
      "Different distribution (reject H0)\n"
     ]
    }
   ],
   "source": [
    "stat, p = wilcoxon(linear_data_auc, LSTM_data_auc)\n",
    "print('Statistics=%.3f, p=%.3f' % (stat, p))\n",
    "# interpret\n",
    "alpha = 0.05\n",
    "if p > alpha:\n",
    "    print('Same distribution (fail to reject H0)')\n",
    "else:\n",
    "    print('Different distribution (reject H0)')"
   ]
  },
  {
   "cell_type": "code",
   "execution_count": 24,
   "metadata": {},
   "outputs": [
    {
     "name": "stdout",
     "output_type": "stream",
     "text": [
      "Statistics=14.000, p=0.005\n",
      "Different distribution (reject H0)\n"
     ]
    }
   ],
   "source": [
    "stat, p = wilcoxon(Linear_F_scaore, LSTM_F_score)\n",
    "print('Statistics=%.3f, p=%.3f' % (stat, p))\n",
    "# interpret\n",
    "alpha = 0.05\n",
    "if p > alpha:\n",
    "    print('Same distribution (fail to reject H0)')\n",
    "else:\n",
    "    print('Different distribution (reject H0)')"
   ]
  },
  {
   "cell_type": "markdown",
   "metadata": {},
   "source": [
    "# statistical analysis for smaller datasets"
   ]
  },
  {
   "cell_type": "code",
   "execution_count": 8,
   "metadata": {},
   "outputs": [
    {
     "name": "stdout",
     "output_type": "stream",
     "text": [
      "Statistics=16.167, p=0.001\n",
      "Different distributions (reject H0)\n"
     ]
    }
   ],
   "source": [
    "Linear_auc_sd = [0.5406445589,\n",
    "0.5366388267,\n",
    "0.7517722879,\n",
    "0.7487344497,\n",
    "0.8328189237,\n",
    "0.812883965,\n",
    "0.7982637766,\n",
    "0.7892754763]\n",
    "MLP_auc_sd = [0.5,\n",
    "0.5,\n",
    "0.5,\n",
    "0.5,\n",
    "0.5,\n",
    "0.5,\n",
    "0.5,\n",
    "0.5]\n",
    "LSTM_auc_sd = [0.5,\n",
    "0.5,\n",
    "0.7108357848,\n",
    "0.5157340311,\n",
    "0.8445633819,\n",
    "0.4996560028,\n",
    "0.7673912334,\n",
    "0.548816518]\n",
    "Conv_LSTM_auc_sd = [0.5,\n",
    "0.5,\n",
    "0.6275868441,\n",
    "0.6592942721,\n",
    "0.8512499893,\n",
    "0.8050270238,\n",
    "0.795311608,\n",
    "0.7786492979]\n",
    "\n",
    "\n",
    "stat, p = friedmanchisquare(Linear_auc_sd, MLP_auc_sd, LSTM_auc_sd, Conv_LSTM_auc_sd)\n",
    "print('Statistics=%.3f, p=%.3f' % (stat, p))\n",
    "# interpret\n",
    "alpha = 0.05\n",
    "if p > alpha:\n",
    "    print('Same distributions (fail to reject H0)')\n",
    "else:\n",
    "    print('Different distributions (reject H0)')"
   ]
  },
  {
   "cell_type": "code",
   "execution_count": 9,
   "metadata": {},
   "outputs": [
    {
     "name": "stdout",
     "output_type": "stream",
     "text": [
      "Statistics=4.000, p=0.050\n",
      "Different distribution (reject H0)\n"
     ]
    }
   ],
   "source": [
    "stat, p = wilcoxon(Linear_auc_sd, Conv_LSTM_auc_sd)\n",
    "print('Statistics=%.3f, p=%.3f' % (stat, p))\n",
    "# interpret\n",
    "alpha = 0.05\n",
    "if p > alpha:\n",
    "    print('Same distribution (fail to reject H0)')\n",
    "else:\n",
    "    print('Different distribution (reject H0)')"
   ]
  },
  {
   "cell_type": "code",
   "execution_count": 10,
   "metadata": {},
   "outputs": [
    {
     "name": "stdout",
     "output_type": "stream",
     "text": [
      "Statistics=1.000, p=0.017\n",
      "Different distribution (reject H0)\n"
     ]
    }
   ],
   "source": [
    "stat, p = wilcoxon(Linear_auc_sd, LSTM_auc_sd)\n",
    "print('Statistics=%.3f, p=%.3f' % (stat, p))\n",
    "# interpret\n",
    "alpha = 0.05\n",
    "if p > alpha:\n",
    "    print('Same distribution (fail to reject H0)')\n",
    "else:\n",
    "    print('Different distribution (reject H0)')"
   ]
  },
  {
   "cell_type": "code",
   "execution_count": 11,
   "metadata": {},
   "outputs": [
    {
     "name": "stdout",
     "output_type": "stream",
     "text": [
      "Statistics=0.000, p=0.012\n",
      "Different distribution (reject H0)\n"
     ]
    }
   ],
   "source": [
    "stat, p = wilcoxon(Linear_auc_sd, MLP_auc_sd)\n",
    "print('Statistics=%.3f, p=%.3f' % (stat, p))\n",
    "# interpret\n",
    "alpha = 0.05\n",
    "if p > alpha:\n",
    "    print('Same distribution (fail to reject H0)')\n",
    "else:\n",
    "    print('Different distribution (reject H0)')"
   ]
  },
  {
   "cell_type": "markdown",
   "metadata": {},
   "source": [
    "# statistical analysis for bigger dataset"
   ]
  },
  {
   "cell_type": "code",
   "execution_count": 12,
   "metadata": {},
   "outputs": [
    {
     "name": "stdout",
     "output_type": "stream",
     "text": [
      "Statistics=16.167, p=0.001\n",
      "Different distributions (reject H0)\n"
     ]
    }
   ],
   "source": [
    "Linear_auc_bd = [0.81,\n",
    "0.755,\n",
    "0.8245380867,\n",
    "0.7584233473,\n",
    "0.8314906437,\n",
    "0.7539332726,\n",
    "0.8036370535,\n",
    "0.7321669331]\n",
    "MLP_auc_bd = [0.7981170304,\n",
    "0.7582374044,\n",
    "0.7880949868,\n",
    "0.7905502646,\n",
    "0.7584471171,\n",
    "0.7805908075,\n",
    "0.7758829932,\n",
    "0]\n",
    "LSTM_auc_bd = [0.8371637927,\n",
    "0.6395545327,\n",
    "0.8437214286,\n",
    "0.6424380375,\n",
    "0.8527021244,\n",
    "0.6452299307,\n",
    "0.8357538075,\n",
    "0.6606008202]\n",
    "CCONV_LSTM_bd = [0.6991897553,\n",
    "0.7949890719,\n",
    "0.7448299819,\n",
    "0.7810257645,\n",
    "0.7843857857,\n",
    "0.8063458599,\n",
    "0.778321798,\n",
    "0.7777927697]\n",
    "\n",
    "stat, p = friedmanchisquare(Linear_auc_sd, MLP_auc_sd, LSTM_auc_sd, Conv_LSTM_auc_sd)\n",
    "print('Statistics=%.3f, p=%.3f' % (stat, p))\n",
    "# interpret\n",
    "alpha = 0.05\n",
    "if p > alpha:\n",
    "    print('Same distributions (fail to reject H0)')\n",
    "else:\n",
    "    print('Different distributions (reject H0)')"
   ]
  },
  {
   "cell_type": "code",
   "execution_count": 13,
   "metadata": {},
   "outputs": [
    {
     "name": "stdout",
     "output_type": "stream",
     "text": [
      "Statistics=10.000, p=0.263\n",
      "Same distribution (fail to reject H0)\n"
     ]
    }
   ],
   "source": [
    "stat, p = wilcoxon(Linear_auc_bd, LSTM_auc_bd)\n",
    "print('Statistics=%.3f, p=%.3f' % (stat, p))\n",
    "# interpret\n",
    "alpha = 0.05\n",
    "if p > alpha:\n",
    "    print('Same distribution (fail to reject H0)')\n",
    "else:\n",
    "    print('Different distribution (reject H0)')"
   ]
  },
  {
   "cell_type": "code",
   "execution_count": null,
   "metadata": {},
   "outputs": [],
   "source": []
  }
 ],
 "metadata": {
  "kernelspec": {
   "display_name": "Python 3",
   "language": "python",
   "name": "python3"
  },
  "language_info": {
   "codemirror_mode": {
    "name": "ipython",
    "version": 3
   },
   "file_extension": ".py",
   "mimetype": "text/x-python",
   "name": "python",
   "nbconvert_exporter": "python",
   "pygments_lexer": "ipython3",
   "version": "3.6.8"
  }
 },
 "nbformat": 4,
 "nbformat_minor": 4
}
