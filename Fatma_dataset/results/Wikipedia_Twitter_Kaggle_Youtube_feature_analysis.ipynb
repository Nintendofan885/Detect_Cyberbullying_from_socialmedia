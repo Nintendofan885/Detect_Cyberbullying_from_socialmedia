{
 "cells": [
  {
   "cell_type": "code",
   "execution_count": 71,
   "metadata": {},
   "outputs": [],
   "source": [
    "import pandas as pd\n",
    "import numpy as np\n",
    "import matplotlib.pyplot as plt"
   ]
  },
  {
   "cell_type": "code",
   "execution_count": 2,
   "metadata": {},
   "outputs": [],
   "source": [
    "wiki_feat = pd.read_csv(\"Wikipedia_features.csv\")\n",
    "twitt_feat = pd.read_csv(\"twitter_features.csv\")\n",
    "kagg_feat = pd.read_csv(\"kaggle_features.csv\")\n",
    "youtube_feat = pd.read_csv(\"youtube_features.csv\")"
   ]
  },
  {
   "cell_type": "code",
   "execution_count": 10,
   "metadata": {},
   "outputs": [],
   "source": [
    "all_features = pd.concat([wiki_feat,twitt_feat,kagg_feat,youtube_feat],axis =1)"
   ]
  },
  {
   "cell_type": "code",
   "execution_count": 12,
   "metadata": {},
   "outputs": [
    {
     "data": {
      "text/plain": [
       "10000"
      ]
     },
     "execution_count": 12,
     "metadata": {},
     "output_type": "execute_result"
    }
   ],
   "source": [
    "len(all_features)"
   ]
  },
  {
   "cell_type": "code",
   "execution_count": 14,
   "metadata": {},
   "outputs": [],
   "source": [
    "all_features= all_features[['Wikipedia_features', 'wikipedia_featurs_No',\n",
    "                            'twitter_features', 'twitter_featurs_No',\n",
    "                           'kaggle_features', 'kaggle_featurs_No',\n",
    "                           'youtube_features', 'youtube_featurs_No']]"
   ]
  },
  {
   "cell_type": "code",
   "execution_count": 35,
   "metadata": {},
   "outputs": [],
   "source": [
    "ll_features = all_features.sort_values(by=['wikipedia_featurs_No'], ascending=True)"
   ]
  },
  {
   "cell_type": "code",
   "execution_count": 15,
   "metadata": {},
   "outputs": [],
   "source": [
    "all_features.to_csv(\"all_features_of_all_datasets.csv\")"
   ]
  },
  {
   "cell_type": "code",
   "execution_count": 36,
   "metadata": {},
   "outputs": [
    {
     "data": {
      "text/html": [
       "<div>\n",
       "<style scoped>\n",
       "    .dataframe tbody tr th:only-of-type {\n",
       "        vertical-align: middle;\n",
       "    }\n",
       "\n",
       "    .dataframe tbody tr th {\n",
       "        vertical-align: top;\n",
       "    }\n",
       "\n",
       "    .dataframe thead th {\n",
       "        text-align: right;\n",
       "    }\n",
       "</style>\n",
       "<table border=\"1\" class=\"dataframe\">\n",
       "  <thead>\n",
       "    <tr style=\"text-align: right;\">\n",
       "      <th></th>\n",
       "      <th>Wikipedia_features</th>\n",
       "      <th>wikipedia_featurs_No</th>\n",
       "      <th>twitter_features</th>\n",
       "      <th>twitter_featurs_No</th>\n",
       "      <th>kaggle_features</th>\n",
       "      <th>kaggle_featurs_No</th>\n",
       "      <th>youtube_features</th>\n",
       "      <th>youtube_featurs_No</th>\n",
       "    </tr>\n",
       "  </thead>\n",
       "  <tbody>\n",
       "    <tr>\n",
       "      <th>0</th>\n",
       "      <td>the</td>\n",
       "      <td>5239.024202</td>\n",
       "      <td>mkr</td>\n",
       "      <td>457.210020</td>\n",
       "      <td>you</td>\n",
       "      <td>443.339727</td>\n",
       "      <td>the</td>\n",
       "      <td>148.027074</td>\n",
       "    </tr>\n",
       "    <tr>\n",
       "      <th>1</th>\n",
       "      <td>you</td>\n",
       "      <td>4200.331387</td>\n",
       "      <td>the</td>\n",
       "      <td>423.560062</td>\n",
       "      <td>the</td>\n",
       "      <td>299.415632</td>\n",
       "      <td>you</td>\n",
       "      <td>132.999536</td>\n",
       "    </tr>\n",
       "    <tr>\n",
       "      <th>2</th>\n",
       "      <td>to</td>\n",
       "      <td>4179.713003</td>\n",
       "      <td>co</td>\n",
       "      <td>367.584354</td>\n",
       "      <td>are</td>\n",
       "      <td>283.569730</td>\n",
       "      <td>to</td>\n",
       "      <td>119.651877</td>\n",
       "    </tr>\n",
       "    <tr>\n",
       "      <th>3</th>\n",
       "      <td>and</td>\n",
       "      <td>3648.567553</td>\n",
       "      <td>http</td>\n",
       "      <td>358.860899</td>\n",
       "      <td>to</td>\n",
       "      <td>242.588712</td>\n",
       "      <td>is</td>\n",
       "      <td>119.534090</td>\n",
       "    </tr>\n",
       "    <tr>\n",
       "      <th>4</th>\n",
       "      <td>of</td>\n",
       "      <td>3565.743217</td>\n",
       "      <td>http co</td>\n",
       "      <td>348.370215</td>\n",
       "      <td>and</td>\n",
       "      <td>229.025385</td>\n",
       "      <td>and</td>\n",
       "      <td>116.300128</td>\n",
       "    </tr>\n",
       "    <tr>\n",
       "      <th>...</th>\n",
       "      <td>...</td>\n",
       "      <td>...</td>\n",
       "      <td>...</td>\n",
       "      <td>...</td>\n",
       "      <td>...</td>\n",
       "      <td>...</td>\n",
       "      <td>...</td>\n",
       "      <td>...</td>\n",
       "    </tr>\n",
       "    <tr>\n",
       "      <th>95</th>\n",
       "      <td>being</td>\n",
       "      <td>695.624034</td>\n",
       "      <td>only</td>\n",
       "      <td>51.004318</td>\n",
       "      <td>time</td>\n",
       "      <td>43.166011</td>\n",
       "      <td>look</td>\n",
       "      <td>33.834279</td>\n",
       "    </tr>\n",
       "    <tr>\n",
       "      <th>96</th>\n",
       "      <td>this is</td>\n",
       "      <td>694.424445</td>\n",
       "      <td>see</td>\n",
       "      <td>50.661683</td>\n",
       "      <td>she</td>\n",
       "      <td>43.158162</td>\n",
       "      <td>then</td>\n",
       "      <td>33.778631</td>\n",
       "    </tr>\n",
       "    <tr>\n",
       "      <th>97</th>\n",
       "      <td>were</td>\n",
       "      <td>690.973062</td>\n",
       "      <td>should</td>\n",
       "      <td>50.576663</td>\n",
       "      <td>and you</td>\n",
       "      <td>42.858224</td>\n",
       "      <td>best</td>\n",
       "      <td>33.436382</td>\n",
       "    </tr>\n",
       "    <tr>\n",
       "      <th>98</th>\n",
       "      <td>well</td>\n",
       "      <td>675.892995</td>\n",
       "      <td>yes</td>\n",
       "      <td>50.303511</td>\n",
       "      <td>only</td>\n",
       "      <td>42.635704</td>\n",
       "      <td>guys</td>\n",
       "      <td>33.350242</td>\n",
       "    </tr>\n",
       "    <tr>\n",
       "      <th>99</th>\n",
       "      <td>them</td>\n",
       "      <td>675.623283</td>\n",
       "      <td>mykitchenrules</td>\n",
       "      <td>49.676253</td>\n",
       "      <td>if you</td>\n",
       "      <td>42.410926</td>\n",
       "      <td>by</td>\n",
       "      <td>33.182913</td>\n",
       "    </tr>\n",
       "  </tbody>\n",
       "</table>\n",
       "<p>100 rows × 8 columns</p>\n",
       "</div>"
      ],
      "text/plain": [
       "   Wikipedia_features  wikipedia_featurs_No twitter_features  \\\n",
       "0                 the           5239.024202              mkr   \n",
       "1                 you           4200.331387              the   \n",
       "2                  to           4179.713003               co   \n",
       "3                 and           3648.567553             http   \n",
       "4                  of           3565.743217          http co   \n",
       "..                ...                   ...              ...   \n",
       "95              being            695.624034             only   \n",
       "96            this is            694.424445              see   \n",
       "97               were            690.973062           should   \n",
       "98               well            675.892995              yes   \n",
       "99               them            675.623283   mykitchenrules   \n",
       "\n",
       "    twitter_featurs_No kaggle_features  kaggle_featurs_No youtube_features  \\\n",
       "0           457.210020             you         443.339727              the   \n",
       "1           423.560062             the         299.415632              you   \n",
       "2           367.584354             are         283.569730               to   \n",
       "3           358.860899              to         242.588712               is   \n",
       "4           348.370215             and         229.025385              and   \n",
       "..                 ...             ...                ...              ...   \n",
       "95           51.004318            time          43.166011             look   \n",
       "96           50.661683             she          43.158162             then   \n",
       "97           50.576663         and you          42.858224             best   \n",
       "98           50.303511            only          42.635704             guys   \n",
       "99           49.676253          if you          42.410926               by   \n",
       "\n",
       "    youtube_featurs_No  \n",
       "0           148.027074  \n",
       "1           132.999536  \n",
       "2           119.651877  \n",
       "3           119.534090  \n",
       "4           116.300128  \n",
       "..                 ...  \n",
       "95           33.834279  \n",
       "96           33.778631  \n",
       "97           33.436382  \n",
       "98           33.350242  \n",
       "99           33.182913  \n",
       "\n",
       "[100 rows x 8 columns]"
      ]
     },
     "execution_count": 36,
     "metadata": {},
     "output_type": "execute_result"
    }
   ],
   "source": [
    "all_features.head(100)"
   ]
  },
  {
   "cell_type": "code",
   "execution_count": 37,
   "metadata": {},
   "outputs": [
    {
     "data": {
      "text/html": [
       "<div>\n",
       "<style scoped>\n",
       "    .dataframe tbody tr th:only-of-type {\n",
       "        vertical-align: middle;\n",
       "    }\n",
       "\n",
       "    .dataframe tbody tr th {\n",
       "        vertical-align: top;\n",
       "    }\n",
       "\n",
       "    .dataframe thead th {\n",
       "        text-align: right;\n",
       "    }\n",
       "</style>\n",
       "<table border=\"1\" class=\"dataframe\">\n",
       "  <thead>\n",
       "    <tr style=\"text-align: right;\">\n",
       "      <th></th>\n",
       "      <th>Wikipedia_features</th>\n",
       "      <th>wikipedia_featurs_No</th>\n",
       "      <th>twitter_features</th>\n",
       "      <th>twitter_featurs_No</th>\n",
       "      <th>kaggle_features</th>\n",
       "      <th>kaggle_featurs_No</th>\n",
       "      <th>youtube_features</th>\n",
       "      <th>youtube_featurs_No</th>\n",
       "    </tr>\n",
       "  </thead>\n",
       "  <tbody>\n",
       "    <tr>\n",
       "      <th>14</th>\n",
       "      <td>are</td>\n",
       "      <td>2152.967965</td>\n",
       "      <td>are</td>\n",
       "      <td>207.687674</td>\n",
       "      <td>like</td>\n",
       "      <td>130.361889</td>\n",
       "      <td>on</td>\n",
       "      <td>76.217043</td>\n",
       "    </tr>\n",
       "    <tr>\n",
       "      <th>32</th>\n",
       "      <td>can</td>\n",
       "      <td>1420.919612</td>\n",
       "      <td>can</td>\n",
       "      <td>112.430341</td>\n",
       "      <td>as</td>\n",
       "      <td>88.230133</td>\n",
       "      <td>if</td>\n",
       "      <td>60.236802</td>\n",
       "    </tr>\n",
       "    <tr>\n",
       "      <th>100</th>\n",
       "      <td>than</td>\n",
       "      <td>655.028221</td>\n",
       "      <td>than</td>\n",
       "      <td>49.389825</td>\n",
       "      <td>an idiot</td>\n",
       "      <td>41.929500</td>\n",
       "      <td>you are</td>\n",
       "      <td>33.115439</td>\n",
       "    </tr>\n",
       "  </tbody>\n",
       "</table>\n",
       "</div>"
      ],
      "text/plain": [
       "    Wikipedia_features  wikipedia_featurs_No twitter_features  \\\n",
       "14                 are           2152.967965              are   \n",
       "32                 can           1420.919612              can   \n",
       "100               than            655.028221             than   \n",
       "\n",
       "     twitter_featurs_No kaggle_features  kaggle_featurs_No youtube_features  \\\n",
       "14           207.687674            like         130.361889               on   \n",
       "32           112.430341              as          88.230133               if   \n",
       "100           49.389825        an idiot          41.929500          you are   \n",
       "\n",
       "     youtube_featurs_No  \n",
       "14            76.217043  \n",
       "32            60.236802  \n",
       "100           33.115439  "
      ]
     },
     "execution_count": 37,
     "metadata": {},
     "output_type": "execute_result"
    }
   ],
   "source": [
    "all_features[(all_features['Wikipedia_features'] == all_features['twitter_features'])]"
   ]
  },
  {
   "cell_type": "code",
   "execution_count": 38,
   "metadata": {},
   "outputs": [
    {
     "data": {
      "text/html": [
       "<div>\n",
       "<style scoped>\n",
       "    .dataframe tbody tr th:only-of-type {\n",
       "        vertical-align: middle;\n",
       "    }\n",
       "\n",
       "    .dataframe tbody tr th {\n",
       "        vertical-align: top;\n",
       "    }\n",
       "\n",
       "    .dataframe thead th {\n",
       "        text-align: right;\n",
       "    }\n",
       "</style>\n",
       "<table border=\"1\" class=\"dataframe\">\n",
       "  <thead>\n",
       "    <tr style=\"text-align: right;\">\n",
       "      <th></th>\n",
       "      <th>Wikipedia_features</th>\n",
       "      <th>wikipedia_featurs_No</th>\n",
       "      <th>twitter_features</th>\n",
       "      <th>twitter_featurs_No</th>\n",
       "      <th>kaggle_features</th>\n",
       "      <th>kaggle_featurs_No</th>\n",
       "      <th>youtube_features</th>\n",
       "      <th>youtube_featurs_No</th>\n",
       "    </tr>\n",
       "  </thead>\n",
       "  <tbody>\n",
       "    <tr>\n",
       "      <th>6192</th>\n",
       "      <td>enter</td>\n",
       "      <td>27.630555</td>\n",
       "      <td>like them</td>\n",
       "      <td>1.898847</td>\n",
       "      <td>enter</td>\n",
       "      <td>1.430112</td>\n",
       "      <td>80s</td>\n",
       "      <td>1.543628</td>\n",
       "    </tr>\n",
       "  </tbody>\n",
       "</table>\n",
       "</div>"
      ],
      "text/plain": [
       "     Wikipedia_features  wikipedia_featurs_No twitter_features  \\\n",
       "6192              enter             27.630555        like them   \n",
       "\n",
       "      twitter_featurs_No kaggle_features  kaggle_featurs_No youtube_features  \\\n",
       "6192            1.898847           enter           1.430112              80s   \n",
       "\n",
       "      youtube_featurs_No  \n",
       "6192            1.543628  "
      ]
     },
     "execution_count": 38,
     "metadata": {},
     "output_type": "execute_result"
    }
   ],
   "source": [
    "all_features[(all_features['Wikipedia_features'] == all_features['kaggle_features'])]"
   ]
  },
  {
   "cell_type": "code",
   "execution_count": 39,
   "metadata": {},
   "outputs": [
    {
     "data": {
      "text/html": [
       "<div>\n",
       "<style scoped>\n",
       "    .dataframe tbody tr th:only-of-type {\n",
       "        vertical-align: middle;\n",
       "    }\n",
       "\n",
       "    .dataframe tbody tr th {\n",
       "        vertical-align: top;\n",
       "    }\n",
       "\n",
       "    .dataframe thead th {\n",
       "        text-align: right;\n",
       "    }\n",
       "</style>\n",
       "<table border=\"1\" class=\"dataframe\">\n",
       "  <thead>\n",
       "    <tr style=\"text-align: right;\">\n",
       "      <th></th>\n",
       "      <th>Wikipedia_features</th>\n",
       "      <th>wikipedia_featurs_No</th>\n",
       "      <th>twitter_features</th>\n",
       "      <th>twitter_featurs_No</th>\n",
       "      <th>kaggle_features</th>\n",
       "      <th>kaggle_featurs_No</th>\n",
       "      <th>youtube_features</th>\n",
       "      <th>youtube_featurs_No</th>\n",
       "    </tr>\n",
       "  </thead>\n",
       "  <tbody>\n",
       "    <tr>\n",
       "      <th>0</th>\n",
       "      <td>the</td>\n",
       "      <td>5239.024202</td>\n",
       "      <td>mkr</td>\n",
       "      <td>457.210020</td>\n",
       "      <td>you</td>\n",
       "      <td>443.339727</td>\n",
       "      <td>the</td>\n",
       "      <td>148.027074</td>\n",
       "    </tr>\n",
       "    <tr>\n",
       "      <th>1</th>\n",
       "      <td>you</td>\n",
       "      <td>4200.331387</td>\n",
       "      <td>the</td>\n",
       "      <td>423.560062</td>\n",
       "      <td>the</td>\n",
       "      <td>299.415632</td>\n",
       "      <td>you</td>\n",
       "      <td>132.999536</td>\n",
       "    </tr>\n",
       "    <tr>\n",
       "      <th>2</th>\n",
       "      <td>to</td>\n",
       "      <td>4179.713003</td>\n",
       "      <td>co</td>\n",
       "      <td>367.584354</td>\n",
       "      <td>are</td>\n",
       "      <td>283.569730</td>\n",
       "      <td>to</td>\n",
       "      <td>119.651877</td>\n",
       "    </tr>\n",
       "    <tr>\n",
       "      <th>6</th>\n",
       "      <td>it</td>\n",
       "      <td>3232.177691</td>\n",
       "      <td>and</td>\n",
       "      <td>305.649253</td>\n",
       "      <td>you are</td>\n",
       "      <td>191.400385</td>\n",
       "      <td>it</td>\n",
       "      <td>112.272025</td>\n",
       "    </tr>\n",
       "    <tr>\n",
       "      <th>7</th>\n",
       "      <td>that</td>\n",
       "      <td>3068.428606</td>\n",
       "      <td>is</td>\n",
       "      <td>295.830373</td>\n",
       "      <td>of</td>\n",
       "      <td>188.295660</td>\n",
       "      <td>that</td>\n",
       "      <td>99.486873</td>\n",
       "    </tr>\n",
       "    <tr>\n",
       "      <th>37</th>\n",
       "      <td>at</td>\n",
       "      <td>1313.869519</td>\n",
       "      <td>me</td>\n",
       "      <td>95.225055</td>\n",
       "      <td>about</td>\n",
       "      <td>82.274086</td>\n",
       "      <td>at</td>\n",
       "      <td>55.608019</td>\n",
       "    </tr>\n",
       "    <tr>\n",
       "      <th>119</th>\n",
       "      <td>way</td>\n",
       "      <td>581.674676</td>\n",
       "      <td>still</td>\n",
       "      <td>41.821125</td>\n",
       "      <td>us</td>\n",
       "      <td>36.133357</td>\n",
       "      <td>way</td>\n",
       "      <td>29.286972</td>\n",
       "    </tr>\n",
       "    <tr>\n",
       "      <th>439</th>\n",
       "      <td>bit</td>\n",
       "      <td>238.334974</td>\n",
       "      <td>lie</td>\n",
       "      <td>15.270701</td>\n",
       "      <td>you to</td>\n",
       "      <td>12.965228</td>\n",
       "      <td>bit</td>\n",
       "      <td>12.173079</td>\n",
       "    </tr>\n",
       "    <tr>\n",
       "      <th>5380</th>\n",
       "      <td>dare you</td>\n",
       "      <td>31.651673</td>\n",
       "      <td>muslim students</td>\n",
       "      <td>2.137135</td>\n",
       "      <td>bought</td>\n",
       "      <td>1.648458</td>\n",
       "      <td>dare you</td>\n",
       "      <td>1.747537</td>\n",
       "    </tr>\n",
       "  </tbody>\n",
       "</table>\n",
       "</div>"
      ],
      "text/plain": [
       "     Wikipedia_features  wikipedia_featurs_No twitter_features  \\\n",
       "0                   the           5239.024202              mkr   \n",
       "1                   you           4200.331387              the   \n",
       "2                    to           4179.713003               co   \n",
       "6                    it           3232.177691              and   \n",
       "7                  that           3068.428606               is   \n",
       "37                   at           1313.869519               me   \n",
       "119                 way            581.674676            still   \n",
       "439                 bit            238.334974              lie   \n",
       "5380           dare you             31.651673  muslim students   \n",
       "\n",
       "      twitter_featurs_No kaggle_features  kaggle_featurs_No youtube_features  \\\n",
       "0             457.210020             you         443.339727              the   \n",
       "1             423.560062             the         299.415632              you   \n",
       "2             367.584354             are         283.569730               to   \n",
       "6             305.649253         you are         191.400385               it   \n",
       "7             295.830373              of         188.295660             that   \n",
       "37             95.225055           about          82.274086               at   \n",
       "119            41.821125              us          36.133357              way   \n",
       "439            15.270701          you to          12.965228              bit   \n",
       "5380            2.137135          bought           1.648458         dare you   \n",
       "\n",
       "      youtube_featurs_No  \n",
       "0             148.027074  \n",
       "1             132.999536  \n",
       "2             119.651877  \n",
       "6             112.272025  \n",
       "7              99.486873  \n",
       "37             55.608019  \n",
       "119            29.286972  \n",
       "439            12.173079  \n",
       "5380            1.747537  "
      ]
     },
     "execution_count": 39,
     "metadata": {},
     "output_type": "execute_result"
    }
   ],
   "source": [
    "all_features[(all_features['Wikipedia_features'] == all_features['youtube_features'])]"
   ]
  },
  {
   "cell_type": "code",
   "execution_count": 42,
   "metadata": {},
   "outputs": [
    {
     "data": {
      "text/plain": [
       "4922"
      ]
     },
     "execution_count": 42,
     "metadata": {},
     "output_type": "execute_result"
    }
   ],
   "source": [
    "len(all_features[all_features[\"youtube_features\"].isin(all_features[\"Wikipedia_features\"]).values])"
   ]
  },
  {
   "cell_type": "code",
   "execution_count": 45,
   "metadata": {},
   "outputs": [
    {
     "data": {
      "text/plain": [
       "5.285999096146425"
      ]
     },
     "execution_count": 45,
     "metadata": {},
     "output_type": "execute_result"
    }
   ],
   "source": [
    "np.mean(all_features[all_features[\"youtube_features\"].isin(all_features[\"Wikipedia_features\"]).values][\"youtube_featurs_No\"])"
   ]
  },
  {
   "cell_type": "code",
   "execution_count": 70,
   "metadata": {},
   "outputs": [
    {
     "data": {
      "text/plain": [
       "108.72580646724371"
      ]
     },
     "execution_count": 70,
     "metadata": {},
     "output_type": "execute_result"
    }
   ],
   "source": [
    "np.mean(all_features[all_features[\"youtube_features\"].isin(all_features[\"Wikipedia_features\"]).values][\"wikipedia_featurs_No\"])"
   ]
  },
  {
   "cell_type": "code",
   "execution_count": 105,
   "metadata": {},
   "outputs": [
    {
     "data": {
      "text/plain": [
       "<matplotlib.legend.Legend at 0x7fc101dc7470>"
      ]
     },
     "execution_count": 105,
     "metadata": {},
     "output_type": "execute_result"
    },
    {
     "data": {
      "image/png": "[encoded data removed]",
      "text/plain": [
       "<Figure size 432x288 with 1 Axes>"
      ]
     },
     "metadata": {
      "needs_background": "light"
     },
     "output_type": "display_data"
    }
   ],
   "source": [
    "plt.hist([all_features[all_features[\"youtube_features\"].isin(all_features[\"Wikipedia_features\"]).values][\"youtube_featurs_No\"],\n",
    "         all_features[all_features[\"youtube_features\"].isin(all_features[\"Wikipedia_features\"]).values][\"wikipedia_featurs_No\"]],\n",
    "        color=['red','black'], label=['youtube','wikipedia'],stacked=True)\n",
    "plt.xlim(0,2000)\n",
    "plt.ylim(0,10000)\n",
    "plt.legend()"
   ]
  },
  {
   "cell_type": "code",
   "execution_count": 120,
   "metadata": {},
   "outputs": [
    {
     "name": "stderr",
     "output_type": "stream",
     "text": [
      "No handles with labels found to put in legend.\n"
     ]
    },
    {
     "data": {
      "text/plain": [
       "<matplotlib.legend.Legend at 0x7fc1013a41d0>"
      ]
     },
     "execution_count": 120,
     "metadata": {},
     "output_type": "execute_result"
    },
    {
     "data": {
      "image/png": "[encoded data removed]",
      "text/plain": [
       "<Figure size 432x288 with 1 Axes>"
      ]
     },
     "metadata": {
      "needs_background": "light"
     },
     "output_type": "display_data"
    }
   ],
   "source": [
    "plt.plot(all_features[all_features[\"youtube_features\"].isin(all_features[\"Wikipedia_features\"]).values][\"youtube_featurs_No\"],\n",
    "         all_features[all_features[\"youtube_features\"].isin(all_features[\"Wikipedia_features\"]).values][\"wikipedia_featurs_No\"],\n",
    "        )\n",
    "plt.xlabel(\"Youtube\")\n",
    "plt.ylabel(\"Wikipedia\")\n",
    "plt.xlim(0,170)\n",
    "plt.ylim(0,6000)\n",
    "plt.legend()"
   ]
  },
  {
   "cell_type": "code",
   "execution_count": 124,
   "metadata": {},
   "outputs": [
    {
     "name": "stderr",
     "output_type": "stream",
     "text": [
      "No handles with labels found to put in legend.\n"
     ]
    },
    {
     "data": {
      "text/plain": [
       "<matplotlib.legend.Legend at 0x7fc1014a7160>"
      ]
     },
     "execution_count": 124,
     "metadata": {},
     "output_type": "execute_result"
    },
    {
     "data": {
      "image/png": "[encoded data removed]",
      "text/plain": [
       "<Figure size 432x288 with 1 Axes>"
      ]
     },
     "metadata": {
      "needs_background": "light"
     },
     "output_type": "display_data"
    }
   ],
   "source": [
    "plt.scatter(all_features[all_features[\"youtube_features\"].isin(all_features[\"Wikipedia_features\"]).values][\"youtube_featurs_No\"],\n",
    "         all_features[all_features[\"youtube_features\"].isin(all_features[\"Wikipedia_features\"]).values][\"wikipedia_featurs_No\"],\n",
    "        )\n",
    "plt.xlabel(\"Youtube\")\n",
    "plt.ylabel(\"Wikipedia\")\n",
    "plt.xlim(0,170)\n",
    "plt.ylim(0,6000)\n",
    "plt.legend()"
   ]
  },
  {
   "cell_type": "code",
   "execution_count": 43,
   "metadata": {},
   "outputs": [
    {
     "data": {
      "text/plain": [
       "5397"
      ]
     },
     "execution_count": 43,
     "metadata": {},
     "output_type": "execute_result"
    }
   ],
   "source": [
    "len(all_features[all_features[\"kaggle_features\"].isin(all_features[\"Wikipedia_features\"]).values])"
   ]
  },
  {
   "cell_type": "code",
   "execution_count": 47,
   "metadata": {},
   "outputs": [
    {
     "data": {
      "text/plain": [
       "5.87087598271961"
      ]
     },
     "execution_count": 47,
     "metadata": {},
     "output_type": "execute_result"
    }
   ],
   "source": [
    "np.mean(all_features[all_features[\"kaggle_features\"].isin(all_features[\"Wikipedia_features\"]).values][\"kaggle_featurs_No\"])"
   ]
  },
  {
   "cell_type": "code",
   "execution_count": 69,
   "metadata": {},
   "outputs": [
    {
     "data": {
      "text/plain": [
       "104.81820471091366"
      ]
     },
     "execution_count": 69,
     "metadata": {},
     "output_type": "execute_result"
    }
   ],
   "source": [
    "np.mean(all_features[all_features[\"kaggle_features\"].isin(all_features[\"Wikipedia_features\"]).values][\"wikipedia_featurs_No\"])"
   ]
  },
  {
   "cell_type": "code",
   "execution_count": 106,
   "metadata": {},
   "outputs": [
    {
     "data": {
      "text/plain": [
       "<matplotlib.legend.Legend at 0x7fc101c12d68>"
      ]
     },
     "execution_count": 106,
     "metadata": {},
     "output_type": "execute_result"
    },
    {
     "data": {
      "image/png": "[encoded data removed]",
      "text/plain": [
       "<Figure size 432x288 with 1 Axes>"
      ]
     },
     "metadata": {
      "needs_background": "light"
     },
     "output_type": "display_data"
    }
   ],
   "source": [
    "plt.hist([all_features[all_features[\"kaggle_features\"].isin(all_features[\"Wikipedia_features\"]).values][\"kaggle_featurs_No\"],\n",
    "    all_features[all_features[\"kaggle_features\"].isin(all_features[\"Wikipedia_features\"]).values][\"wikipedia_featurs_No\"]],\n",
    "        color=['yellow','black'], label=['kaggle','wikipedia'],stacked=True)\n",
    "plt.xlim(0,2000)\n",
    "plt.ylim(0,10000)\n",
    "plt.legend()"
   ]
  },
  {
   "cell_type": "code",
   "execution_count": 121,
   "metadata": {},
   "outputs": [
    {
     "name": "stderr",
     "output_type": "stream",
     "text": [
      "No handles with labels found to put in legend.\n"
     ]
    },
    {
     "data": {
      "text/plain": [
       "<matplotlib.legend.Legend at 0x7fc10101a5c0>"
      ]
     },
     "execution_count": 121,
     "metadata": {},
     "output_type": "execute_result"
    },
    {
     "data": {
      "image/png": "[encoded data removed]",
      "text/plain": [
       "<Figure size 432x288 with 1 Axes>"
      ]
     },
     "metadata": {
      "needs_background": "light"
     },
     "output_type": "display_data"
    }
   ],
   "source": [
    "plt.plot(all_features[all_features[\"kaggle_features\"].isin(all_features[\"Wikipedia_features\"]).values][\"kaggle_featurs_No\"],\n",
    "    all_features[all_features[\"kaggle_features\"].isin(all_features[\"Wikipedia_features\"]).values][\"wikipedia_featurs_No\"])\n",
    "plt.xlim(0,500)\n",
    "plt.ylim(0,6000)\n",
    "plt.xlabel(\"Kaggle\")\n",
    "plt.ylabel(\"Wikipedia\")\n",
    "plt.legend()"
   ]
  },
  {
   "cell_type": "code",
   "execution_count": 125,
   "metadata": {},
   "outputs": [
    {
     "name": "stderr",
     "output_type": "stream",
     "text": [
      "No handles with labels found to put in legend.\n"
     ]
    },
    {
     "data": {
      "text/plain": [
       "<matplotlib.legend.Legend at 0x7fc1012231d0>"
      ]
     },
     "execution_count": 125,
     "metadata": {},
     "output_type": "execute_result"
    },
    {
     "data": {
      "image/png": "[encoded data removed]",
      "text/plain": [
       "<Figure size 432x288 with 1 Axes>"
      ]
     },
     "metadata": {
      "needs_background": "light"
     },
     "output_type": "display_data"
    }
   ],
   "source": [
    "plt.scatter(all_features[all_features[\"kaggle_features\"].isin(all_features[\"Wikipedia_features\"]).values][\"kaggle_featurs_No\"],\n",
    "    all_features[all_features[\"kaggle_features\"].isin(all_features[\"Wikipedia_features\"]).values][\"wikipedia_featurs_No\"])\n",
    "plt.xlim(0,500)\n",
    "plt.ylim(0,6000)\n",
    "plt.xlabel(\"Kaggle\")\n",
    "plt.ylabel(\"Wikipedia\")\n",
    "plt.legend()"
   ]
  },
  {
   "cell_type": "code",
   "execution_count": 44,
   "metadata": {},
   "outputs": [
    {
     "data": {
      "text/plain": [
       "4516"
      ]
     },
     "execution_count": 44,
     "metadata": {},
     "output_type": "execute_result"
    }
   ],
   "source": [
    "len(all_features[all_features[\"twitter_features\"].isin(all_features[\"Wikipedia_features\"]).values])"
   ]
  },
  {
   "cell_type": "code",
   "execution_count": 48,
   "metadata": {},
   "outputs": [
    {
     "data": {
      "text/plain": [
       "7.396938153329668"
      ]
     },
     "execution_count": 48,
     "metadata": {},
     "output_type": "execute_result"
    }
   ],
   "source": [
    "np.mean(all_features[all_features[\"twitter_features\"].isin(all_features[\"Wikipedia_features\"]).values][\"twitter_featurs_No\"])"
   ]
  },
  {
   "cell_type": "code",
   "execution_count": 68,
   "metadata": {},
   "outputs": [
    {
     "data": {
      "text/plain": [
       "104.29583202299618"
      ]
     },
     "execution_count": 68,
     "metadata": {},
     "output_type": "execute_result"
    }
   ],
   "source": [
    "np.mean(all_features[all_features[\"twitter_features\"].isin(all_features[\"Wikipedia_features\"]).values][\"wikipedia_featurs_No\"])"
   ]
  },
  {
   "cell_type": "code",
   "execution_count": 107,
   "metadata": {},
   "outputs": [
    {
     "data": {
      "text/plain": [
       "<matplotlib.legend.Legend at 0x7fc1079dea58>"
      ]
     },
     "execution_count": 107,
     "metadata": {},
     "output_type": "execute_result"
    },
    {
     "data": {
      "image/png": "[encoded data removed]",
      "text/plain": [
       "<Figure size 432x288 with 1 Axes>"
      ]
     },
     "metadata": {
      "needs_background": "light"
     },
     "output_type": "display_data"
    }
   ],
   "source": [
    "plt.hist([all_features[all_features[\"twitter_features\"].isin(all_features[\"Wikipedia_features\"]).values][\"twitter_featurs_No\"],\n",
    "    all_features[all_features[\"twitter_features\"].isin(all_features[\"Wikipedia_features\"]).values][\"wikipedia_featurs_No\"]],\n",
    "        color=['blue','black'], label=['twitter','wikipedia'],stacked=True)\n",
    "plt.xlim(0,2000)\n",
    "plt.ylim(0,10000)\n",
    "plt.legend()"
   ]
  },
  {
   "cell_type": "code",
   "execution_count": 123,
   "metadata": {},
   "outputs": [
    {
     "name": "stderr",
     "output_type": "stream",
     "text": [
      "No handles with labels found to put in legend.\n"
     ]
    },
    {
     "data": {
      "text/plain": [
       "<matplotlib.legend.Legend at 0x7fc1013826a0>"
      ]
     },
     "execution_count": 123,
     "metadata": {},
     "output_type": "execute_result"
    },
    {
     "data": {
      "image/png": "[encoded data removed]",
      "text/plain": [
       "<Figure size 432x288 with 1 Axes>"
      ]
     },
     "metadata": {
      "needs_background": "light"
     },
     "output_type": "display_data"
    }
   ],
   "source": [
    "plt.plot(all_features[all_features[\"twitter_features\"].isin(all_features[\"Wikipedia_features\"]).values][\"twitter_featurs_No\"],\n",
    "    all_features[all_features[\"twitter_features\"].isin(all_features[\"Wikipedia_features\"]).values][\"wikipedia_featurs_No\"])\n",
    "plt.xlim(0,500)\n",
    "plt.ylim(0,5000)\n",
    "plt.xlabel(\"Twitter\")\n",
    "plt.ylabel(\"Wikipedia\")\n",
    "plt.legend()"
   ]
  },
  {
   "cell_type": "code",
   "execution_count": 133,
   "metadata": {},
   "outputs": [
    {
     "data": {
      "text/plain": [
       "<matplotlib.legend.Legend at 0x7fc10144c2b0>"
      ]
     },
     "execution_count": 133,
     "metadata": {},
     "output_type": "execute_result"
    },
    {
     "data": {
      "image/png": "[encoded data removed]",
      "text/plain": [
       "<Figure size 432x288 with 1 Axes>"
      ]
     },
     "metadata": {
      "needs_background": "light"
     },
     "output_type": "display_data"
    }
   ],
   "source": [
    "\n",
    "plt.scatter(all_features[all_features[\"youtube_features\"].isin(all_features[\"Wikipedia_features\"]).values][\"youtube_featurs_No\"],\n",
    "         all_features[all_features[\"youtube_features\"].isin(all_features[\"Wikipedia_features\"]).values][\"wikipedia_featurs_No\"],\n",
    "        label='Youtube')\n",
    "\n",
    "plt.scatter(all_features[all_features[\"kaggle_features\"].isin(all_features[\"Wikipedia_features\"]).values][\"kaggle_featurs_No\"],\n",
    "    all_features[all_features[\"kaggle_features\"].isin(all_features[\"Wikipedia_features\"]).values][\"wikipedia_featurs_No\"],\n",
    "           label='Kaggle')\n",
    "\n",
    "plt.scatter(all_features[all_features[\"twitter_features\"].isin(all_features[\"Wikipedia_features\"]).values][\"twitter_featurs_No\"],\n",
    "    all_features[all_features[\"twitter_features\"].isin(all_features[\"Wikipedia_features\"]).values][\"wikipedia_featurs_No\"],\n",
    "           label='Twitter')\n",
    "plt.xlim(0,500)\n",
    "plt.ylim(0,5000)\n",
    "plt.xlabel(\"Dataset\")\n",
    "plt.ylabel(\"Wikipedia\")\n",
    "plt.title(\"Number of common word occurences in Wikipedia ds and other datasets (youtube, kaggle, Twitter)\")\n",
    "plt.legend()"
   ]
  },
  {
   "cell_type": "code",
   "execution_count": 49,
   "metadata": {},
   "outputs": [],
   "source": [
    "features_wiki_twitter_no_wiki = all_features[all_features[\"twitter_features\"].isin(all_features[\"Wikipedia_features\"]).values][\"wikipedia_featurs_No\"]"
   ]
  },
  {
   "cell_type": "code",
   "execution_count": 64,
   "metadata": {},
   "outputs": [],
   "source": [
    "features_wiki_twitter_no_wiki_norm = features_wiki_twitter_no_wiki.apply(lambda x: x / len(features_wiki_twitter_no_wiki))"
   ]
  },
  {
   "cell_type": "code",
   "execution_count": 50,
   "metadata": {},
   "outputs": [],
   "source": [
    "features_wiki_twitter_no_twit = all_features[all_features[\"twitter_features\"].isin(all_features[\"Wikipedia_features\"]).values][\"twitter_featurs_No\"]"
   ]
  },
  {
   "cell_type": "code",
   "execution_count": 65,
   "metadata": {},
   "outputs": [],
   "source": [
    "features_wiki_twitter_no_twit_norm = all_features[all_features[\"twitter_features\"].isin(all_features[\"Wikipedia_features\"]).values][\"twitter_featurs_No\"].apply(lambda x : x / len(features_wiki_twitter_no_twit))"
   ]
  },
  {
   "cell_type": "code",
   "execution_count": 53,
   "metadata": {},
   "outputs": [
    {
     "name": "stdout",
     "output_type": "stream",
     "text": [
      "Corrleation between number of occurences of commnon features between wikipedia and Twitter 0.9879211129124073\n"
     ]
    }
   ],
   "source": [
    "print(\"Corrleation between number of occurences of commnon features between wikipedia and Twitter\",\n",
    "      features_wiki_twitter_no_wiki.corr(features_wiki_twitter_no_twit))"
   ]
  },
  {
   "cell_type": "code",
   "execution_count": 61,
   "metadata": {},
   "outputs": [
    {
     "data": {
      "text/plain": [
       "array([[1.        , 0.98792111],\n",
       "       [0.98792111, 1.        ]])"
      ]
     },
     "execution_count": 61,
     "metadata": {},
     "output_type": "execute_result"
    }
   ],
   "source": [
    "np.corrcoef(features_wiki_twitter_no_wiki, features_wiki_twitter_no_twit)"
   ]
  },
  {
   "cell_type": "code",
   "execution_count": 67,
   "metadata": {},
   "outputs": [
    {
     "data": {
      "text/plain": [
       "array([[1.        , 0.98792111],\n",
       "       [0.98792111, 1.        ]])"
      ]
     },
     "execution_count": 67,
     "metadata": {},
     "output_type": "execute_result"
    }
   ],
   "source": [
    "np.corrcoef(features_wiki_twitter_no_wiki_norm, features_wiki_twitter_no_twit_norm)"
   ]
  },
  {
   "cell_type": "code",
   "execution_count": 54,
   "metadata": {},
   "outputs": [],
   "source": [
    "features_wiki_youtube_no_wiki = all_features[all_features[\"youtube_features\"].isin(all_features[\"Wikipedia_features\"]).values][\"wikipedia_featurs_No\"]"
   ]
  },
  {
   "cell_type": "code",
   "execution_count": 55,
   "metadata": {},
   "outputs": [],
   "source": [
    "features_wiki_youtube_no_youtube = all_features[all_features[\"youtube_features\"].isin(all_features[\"Wikipedia_features\"]).values][\"youtube_featurs_No\"]"
   ]
  },
  {
   "cell_type": "code",
   "execution_count": 56,
   "metadata": {},
   "outputs": [
    {
     "name": "stdout",
     "output_type": "stream",
     "text": [
      "Corrleation between number of occurences of commnon features between wikipedia and Youtube 0.9812795005025522\n"
     ]
    }
   ],
   "source": [
    "print(\"Corrleation between number of occurences of commnon features between wikipedia and Youtube\",\n",
    "      features_wiki_youtube_no_wiki.corr(features_wiki_youtube_no_youtube))"
   ]
  },
  {
   "cell_type": "code",
   "execution_count": 62,
   "metadata": {},
   "outputs": [
    {
     "data": {
      "text/plain": [
       "array([[1.       , 0.9812795],\n",
       "       [0.9812795, 1.       ]])"
      ]
     },
     "execution_count": 62,
     "metadata": {},
     "output_type": "execute_result"
    }
   ],
   "source": [
    "np.corrcoef(features_wiki_youtube_no_wiki, features_wiki_youtube_no_youtube)"
   ]
  },
  {
   "cell_type": "code",
   "execution_count": 57,
   "metadata": {},
   "outputs": [],
   "source": [
    "features_wiki_kaggle_no_wiki = all_features[all_features[\"kaggle_features\"].isin(all_features[\"Wikipedia_features\"]).values][\"wikipedia_featurs_No\"]"
   ]
  },
  {
   "cell_type": "code",
   "execution_count": 58,
   "metadata": {},
   "outputs": [],
   "source": [
    "features_wiki_kaggle_no_kaggle = all_features[all_features[\"kaggle_features\"].isin(all_features[\"Wikipedia_features\"]).values][\"kaggle_featurs_No\"]"
   ]
  },
  {
   "cell_type": "code",
   "execution_count": 59,
   "metadata": {},
   "outputs": [
    {
     "name": "stdout",
     "output_type": "stream",
     "text": [
      "Corrleation between number of occurences of commnon features between wikipedia and Kaggle 0.9930432670306276\n"
     ]
    }
   ],
   "source": [
    "print(\"Corrleation between number of occurences of commnon features between wikipedia and Kaggle\",\n",
    "      features_wiki_kaggle_no_wiki.corr(features_wiki_kaggle_no_kaggle))"
   ]
  },
  {
   "cell_type": "code",
   "execution_count": 63,
   "metadata": {},
   "outputs": [
    {
     "data": {
      "text/plain": [
       "array([[1.        , 0.99304327],\n",
       "       [0.99304327, 1.        ]])"
      ]
     },
     "execution_count": 63,
     "metadata": {},
     "output_type": "execute_result"
    }
   ],
   "source": [
    "np.corrcoef(features_wiki_kaggle_no_wiki, features_wiki_kaggle_no_kaggle)"
   ]
  },
  {
   "cell_type": "code",
   "execution_count": null,
   "metadata": {},
   "outputs": [],
   "source": []
  }
 ],
 "metadata": {
  "kernelspec": {
   "display_name": "Python 3",
   "language": "python",
   "name": "python3"
  },
  "language_info": {
   "codemirror_mode": {
    "name": "ipython",
    "version": 3
   },
   "file_extension": ".py",
   "mimetype": "text/x-python",
   "name": "python",
   "nbconvert_exporter": "python",
   "pygments_lexer": "ipython3",
   "version": "3.6.8"
  }
 },
 "nbformat": 4,
 "nbformat_minor": 4
}
